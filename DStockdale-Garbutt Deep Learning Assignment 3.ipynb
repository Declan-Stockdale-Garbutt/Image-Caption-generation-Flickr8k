{
 "cells": [
  {
   "cell_type": "markdown",
   "id": "5fcbf5fb",
   "metadata": {},
   "source": [
    "# Deep Learning Assignment 3"
   ]
  },
  {
   "cell_type": "markdown",
   "id": "898d3d10",
   "metadata": {},
   "source": [
    "This notebook explores image captioning using three models: VGG19, EfficientNet v2 S and Inception ResNet v2. Each model is used to extract featurs from the Flickr8k images which comprise of 6000 training ,1000 validation and 1000 test images respecively. Each image has 5 human made captions associated with it describing the image.\n",
    "\n",
    "To process the uman made captions for the dataset, we tokenise them giving each word a unique number. We then run the tokenized results through either a Long Short Term Memory architecture (LSTM) or a Gated Recurrent Unit (GRU). Each handle text in a different way.\n",
    "\n",
    "Finally the output features form the vision model is combined with the output of the LSTM/GRU model and merged into a final output for further predictions.\n",
    "\n",
    "A large issue that came up in this notebook was that the models stopped working when aplying a validation set. Various attemtpts such as loading the whole or a subset of validation set into memory failed. Using a datagenerator on the validation also failed. Both methods seemed to pause the notebook for hours at a time with no obvious training occuring. Without the validation data, the training occured as expected. This issue should be looked into as using a validation set is incredibly useful to avoid overfitting and greatly aids model seletion."
   ]
  },
  {
   "cell_type": "markdown",
   "id": "fdfd70da",
   "metadata": {},
   "source": [
    "Although many attempts were made such as fitting bulk validation to memeory and creating generators, it proved imporssible to use the validation dataset when training the model\n",
    "As such to improve training, the validation and training were combined into one large training file of the 6000+1000- images respectively for training and validation.\n",
    "\n",
    "The training and validation sets were combined into one set as not to loose the extra 1000 images which may improve the model. It seemed wsateful to not use them at all since no validation was being performed"
   ]
  },
  {
   "cell_type": "markdown",
   "id": "9bd92f16",
   "metadata": {},
   "source": [
    "### Import libraries"
   ]
  },
  {
   "cell_type": "code",
   "execution_count": 125,
   "id": "03940a43",
   "metadata": {},
   "outputs": [],
   "source": [
    "# Standard libraries\n",
    "import matplotlib.pyplot as plt\n",
    "import matplotlib.image as mpimg\n",
    "import os\n",
    "import string\n",
    "from tqdm.notebook import tqdm\n",
    "from datetime import datetime\n",
    "from collections import Counter\n",
    "\n",
    "import numpy as np\n",
    "from numpy import array, argmax\n",
    "\n",
    "import pandas as pd\n",
    "pd.options.mode.chained_assignment = None \n",
    "\n",
    "# pickle imports for saving thigns that are too large for memory\n",
    "import pickle\n",
    "from pickle import load\n",
    "from pickle import dump\n",
    "\n",
    "# Tensorflow improts for model building \n",
    "import tensorflow as tf\n",
    "from tensorflow.keras.applications import MobileNetV3Small \n",
    "from tensorflow.keras.applications.mobilenet_v3 import preprocess_input\n",
    "\n",
    "\n",
    "from tensorflow.keras.callbacks import EarlyStopping, ReduceLROnPlateau, ModelCheckpoint\n",
    "from tensorflow.keras.models import Model, load_model\n",
    "from tensorflow.keras.applications.efficientnet_v2  import EfficientNetV2S, preprocess_input\n",
    "from tensorflow.keras.applications.inception_resnet_v2 import InceptionResNetV2, preprocess_input\n",
    "from tensorflow.keras.applications.vgg19 import VGG19, preprocess_input\n",
    "from tensorflow.keras.preprocessing.image import load_img, img_to_array\n",
    "from tensorflow.keras.preprocessing.text import Tokenizer\n",
    "from tensorflow.keras.preprocessing.sequence import pad_sequences\n",
    "from tensorflow.keras.models import Model\n",
    "from tensorflow.keras.utils import to_categorical, plot_model\n",
    "from tensorflow.keras.layers import Input, Dense, LSTM, Embedding, Dropout, add, GRU,Attention\n",
    "\n",
    "# import BLEU metric\n",
    "from nltk.translate.bleu_score import corpus_bleu"
   ]
  },
  {
   "cell_type": "markdown",
   "id": "b46059c2",
   "metadata": {},
   "source": [
    "### Define file paths"
   ]
  },
  {
   "cell_type": "markdown",
   "id": "2736b577",
   "metadata": {},
   "source": [
    "As l'm working on my local machine, I'm setting my path to where my files are stored"
   ]
  },
  {
   "cell_type": "code",
   "execution_count": 2,
   "id": "fa959a22",
   "metadata": {},
   "outputs": [],
   "source": [
    "# root directory\n",
    "filepath = \"C:/Users/Declan/Desktop/MDSI/2022/DL - 94691/Assignment 3/\"\n",
    "\n",
    "# path to image and text files\n",
    "image_filepath = filepath + 'Flickr8k_Dataset/Flicker8k_Dataset/'\n",
    "text_filepath = filepath + 'Flickr8k_text/'"
   ]
  },
  {
   "cell_type": "markdown",
   "id": "3a8cee6e",
   "metadata": {},
   "source": [
    "### Get train, validation and test images"
   ]
  },
  {
   "cell_type": "markdown",
   "id": "9c29d5c4",
   "metadata": {},
   "source": [
    "Use root directory from above to path into where the images and the text information is located"
   ]
  },
  {
   "cell_type": "code",
   "execution_count": 3,
   "id": "59b53f8d",
   "metadata": {},
   "outputs": [],
   "source": [
    "# text images and image filepath\n",
    "image_filepath = filepath + 'Flickr8k_Dataset/Flicker8k_Dataset/'\n",
    "text_filepath = filepath + 'Flickr8k_text/'"
   ]
  },
  {
   "cell_type": "markdown",
   "id": "dba704d7",
   "metadata": {},
   "source": [
    "Each of the below text files displays the image id e.g. 667626_18933d713e.jpg of the corresponding set"
   ]
  },
  {
   "cell_type": "code",
   "execution_count": 4,
   "id": "7c282eeb",
   "metadata": {},
   "outputs": [],
   "source": [
    "# Set path for train, validation and test text files\n",
    "train_filename = filepath+'Flickr8k_text/Flickr_8k.trainImages.txt'\n",
    "val_filename = filepath+'Flickr8k_text/Flickr_8k.devImages.txt'\n",
    "test_filename = filepath + 'Flickr8k_text/Flickr_8k.testImages.txt'"
   ]
  },
  {
   "cell_type": "markdown",
   "id": "1c5ae328",
   "metadata": {},
   "source": [
    "### Concat the train and validation images"
   ]
  },
  {
   "cell_type": "markdown",
   "id": "5d1c0795",
   "metadata": {},
   "source": [
    "As mentioned earlier, the issues of using a validation set led to an alternative of combining the train and validation sets toghether into what is reffered to as the combined trainin val set"
   ]
  },
  {
   "cell_type": "code",
   "execution_count": 5,
   "id": "0595049f",
   "metadata": {},
   "outputs": [],
   "source": [
    "# combine both the training and the validation\n",
    "\n",
    "# Reads all lines in training txt\n",
    "file1 = open(train_filename,'r')\n",
    "file1_contents = file1.read()\n",
    "file1.close()\n",
    "# Reads all lines in validation txt\n",
    "file2 = open(val_filename,'r')\n",
    "file2_contents = file2.read()\n",
    "file2.close()\n",
    "\n",
    "# Concatentate the lists of files \n",
    "combined_training_val = file1_contents+file2_contents"
   ]
  },
  {
   "cell_type": "markdown",
   "id": "4386af53",
   "metadata": {},
   "source": [
    "### Write concatenated list to file called combined train val"
   ]
  },
  {
   "cell_type": "code",
   "execution_count": 6,
   "id": "0a48f69e",
   "metadata": {},
   "outputs": [],
   "source": [
    "# write the combined list to a new txt file\n",
    "\n",
    "with open(filepath + 'Flickr8k_text/combined_train_val.txt', 'w') as f:\n",
    "    f.write(combined_training_val)\n",
    "    \n",
    "combined_filename = filepath + 'Flickr8k_text/combined_train_val.txt'"
   ]
  },
  {
   "cell_type": "markdown",
   "id": "af75fdaf",
   "metadata": {},
   "source": [
    "## Process images"
   ]
  },
  {
   "cell_type": "markdown",
   "id": "9beb9e1a",
   "metadata": {},
   "source": [
    "The image processing process is where we inut the images into the vision models. The last layers of the models have een removed as we don't want a prediction we want the features expressed as a numpy array. This is then combined with the text processing for final model output."
   ]
  },
  {
   "cell_type": "code",
   "execution_count": 150,
   "id": "75f052c6",
   "metadata": {},
   "outputs": [],
   "source": [
    "# Function to extract features from images\n",
    "# Inputs are the filename e.g. test, combined text files and which model we want to use\n",
    "# The process is the same for each so we can just add the extra selectin to the input\n",
    "# all models use the imagenet weights\n",
    "\n",
    "def extract_features(file, model):#directory\n",
    "    # load the model\n",
    "    if model == 'vgg19':\n",
    "        model = VGG19(weights='imagenet')\n",
    "        target_size = (224, 224)\n",
    "        \n",
    "    elif model == 'efficientnetv2s':\n",
    "        model = EfficientNetV2S(weights='imagenet')\n",
    "        target_size = (384, 384)\n",
    "    \n",
    "    elif model == 'inception_resnet_v2':\n",
    "        model = InceptionResNetV2(weights='imagenet')\n",
    "        target_size = (299, 299)\n",
    "        \n",
    "    elif model == 'mobilenetv3s':\n",
    "        model = MobileNetV3Small(weights='imagenet')\n",
    "        target_size = (576, 576)    \n",
    "        \n",
    "    # re-structure the model - remove predicting layers we don't want\n",
    "    model = Model(inputs=model.inputs, outputs=model.layers[-2].output)\n",
    "\n",
    "    # create empty dictionary - output will be {file1: [array of feaures], file2:[array of feaures]}\n",
    "    features = dict()\n",
    "    \n",
    "    # open files\n",
    "    opened_file = open(file,'r')\n",
    "    \n",
    "    # read contents\n",
    "    opened_file_contents = opened_file.read()\n",
    "    \n",
    "    # split by line seperator\n",
    "    opened_file_contents = list(opened_file_contents.split('\\n'))\n",
    "        \n",
    "    # loop over all images using their name\n",
    "    for image_name in opened_file_contents:\n",
    "        \n",
    "        # check that filename seems legitimate \n",
    "        if len (image_name) <10:\n",
    "            pass\n",
    "        else:\n",
    "            # if image is legit\n",
    "                \n",
    "            # set path to image    \n",
    "            image_path = image_filepath +  image_name\n",
    "            \n",
    "            # load image using path - target size is dependent on models specified above\n",
    "            image = load_img(image_path, target_size = target_size)\n",
    "\n",
    "            # convert the image pixels to a numpy array\n",
    "            image = img_to_array(image)\n",
    "            \n",
    "            # reshape data for the model\n",
    "            image = image.reshape((1, image.shape[0], image.shape[1], image.shape[2]))\n",
    "            \n",
    "            # prepare the image for the vision model\n",
    "            image = preprocess_input(image)\n",
    "            \n",
    "            # get features by running image through vision model\n",
    "            feature = model.predict(image, verbose=0)\n",
    "            \n",
    "            # get image id - remove .jpg from end abc.jpg splits to abc .jpg, select first element abc\n",
    "            image_id = image_name.split('.')[0]\n",
    "            \n",
    "            # store feature\n",
    "            features[image_id] = feature\n",
    "            \n",
    "    # return dictionary of image name features\n",
    "    return features"
   ]
  },
  {
   "cell_type": "markdown",
   "id": "04e3658f",
   "metadata": {},
   "source": [
    "## Text processing"
   ]
  },
  {
   "cell_type": "markdown",
   "id": "a2d5d82f",
   "metadata": {},
   "source": [
    "We need to perform some text processing to clean the text data. The first step is to convert all words to lower case. Then we need to remve punctuation and numbers. Once punctionation is removed we may have some isolated s's e.g. (it's -> it s). We can also remove isolated a's (e.g. a child walks throught the whatever -> child walks throught the whatever)\n",
    "\n",
    "The model can't work with words so in stead each word in encoded to a number e.g. the  = 1, ball = 2 etc for all words in the combined dataset.\n",
    "\n",
    "The dataset comes with token .txt with all original captions and a lemmatized verions wher the captions are down to their base word (e.g.a man jumped -> a man jump whre jump is the root of jumped)\n",
    "\n"
   ]
  },
  {
   "cell_type": "code",
   "execution_count": 8,
   "id": "c4633464",
   "metadata": {},
   "outputs": [],
   "source": [
    "# Function to load a given file into memory then close it, the contents of the file are returned\n",
    "def load_doc(filename):\n",
    "    # open the file as read only\n",
    "    file = open(filename, 'r')\n",
    "    # read all text\n",
    "    text = file.read()\n",
    "    # close the file\n",
    "    file.close()\n",
    "    return text"
   ]
  },
  {
   "cell_type": "markdown",
   "id": "3d3df3ff",
   "metadata": {},
   "source": [
    "### Load text data"
   ]
  },
  {
   "cell_type": "code",
   "execution_count": 9,
   "id": "a2f824e3",
   "metadata": {},
   "outputs": [],
   "source": [
    "filename_token = filepath+'Flickr8k_text/Flickr8k.token.txt'\n",
    "# load descriptions\n",
    "doc = load_doc(filename_token)"
   ]
  },
  {
   "cell_type": "code",
   "execution_count": 10,
   "id": "d7bac16d",
   "metadata": {},
   "outputs": [],
   "source": [
    "# function to process the textand provide mapping\n",
    "\n",
    "# extract descriptions for images\n",
    "def load_descriptions(doc):\n",
    "    \n",
    "    # create empty dict\n",
    "    mapping = dict()\n",
    "    \n",
    "    # split lines by line seperator\n",
    "    for line in doc.split('\\n'):\n",
    "        \n",
    "        # split line by white space each split is a word\n",
    "        tokens = line.split()\n",
    "        \n",
    "        # skip line if too short\n",
    "        if len(line) < 2: \n",
    "            continue\n",
    "            \n",
    "        # take the first token as the image id, the rest as the description\n",
    "        image_id, image_desc = tokens[0], tokens[1:]\n",
    "        \n",
    "        # remove filename from image id abc.jpg split to abc and .jpg, grab first item\n",
    "        image_id = image_id.split('.')[0]\n",
    "        \n",
    "        # convert description tokens back to string \n",
    "        image_desc = ' '.join(image_desc)\n",
    "        \n",
    "        # create the list if needed\n",
    "        if image_id not in mapping:\n",
    "            mapping[image_id] = list()\n",
    "            \n",
    "        # store description\n",
    "        mapping[image_id].append(image_desc)\n",
    "    return mapping"
   ]
  },
  {
   "cell_type": "code",
   "execution_count": 11,
   "id": "9e5ddf1a",
   "metadata": {},
   "outputs": [
    {
     "name": "stdout",
     "output_type": "stream",
     "text": [
      "Loaded: 8092 \n"
     ]
    }
   ],
   "source": [
    "# parse descriptions and show length \n",
    "descriptions = load_descriptions(doc)\n",
    "print('Loaded: %d ' % len(descriptions))"
   ]
  },
  {
   "cell_type": "markdown",
   "id": "c09d5b13",
   "metadata": {},
   "source": [
    "### Clean descriptions"
   ]
  },
  {
   "cell_type": "code",
   "execution_count": 12,
   "id": "994d2f8a",
   "metadata": {},
   "outputs": [],
   "source": [
    "# remove punctuation\n",
    "\n",
    "def clean_descriptions(descriptions):\n",
    "    \n",
    "    # prepare translation table for removing punctuation\n",
    "    table = str.maketrans('', '', string.punctuation)\n",
    "    \n",
    "    for key, desc_list in descriptions.items():\n",
    "        \n",
    "        for i in range(len(desc_list)):\n",
    "            # get item in list\n",
    "            desc = desc_list[i]\n",
    "            \n",
    "            # tokenize the item\n",
    "            desc = desc.split()\n",
    "            \n",
    "            # convert to lower case\n",
    "            desc = [word.lower() for word in desc]\n",
    "            \n",
    "            # remove punctuation from each token using translate\n",
    "            desc = [w.translate(table) for w in desc]\n",
    "            \n",
    "            # remove hanging 's' and 'a' or some other short word which may pop up. Filter by longer than 1\n",
    "            desc = [word for word in desc if len(word)>1]\n",
    "            \n",
    "            # remove tokens with numbers in them using is alpha\n",
    "            desc = [word for word in desc if word.isalpha()]\n",
    "            \n",
    "            # store as string\n",
    "            desc_list[i] =  ' '.join(desc)\n",
    "\n"
   ]
  },
  {
   "cell_type": "markdown",
   "id": "a5b11429",
   "metadata": {},
   "source": [
    "### Get cleaned descriptions"
   ]
  },
  {
   "cell_type": "code",
   "execution_count": 13,
   "id": "d3c4789a",
   "metadata": {},
   "outputs": [],
   "source": [
    "# get clean descriptions\n",
    "clean_descriptions(descriptions)"
   ]
  },
  {
   "cell_type": "code",
   "execution_count": 14,
   "id": "36b38356",
   "metadata": {},
   "outputs": [],
   "source": [
    "# function to get all words in descriptions\n",
    "\n",
    "\n",
    "def to_vocabulary(descriptions):\n",
    "    \n",
    "    # build a list of all description strings , set only returns unique entries (a,b,a) -> (a,b)\n",
    "    all_desc = set()\n",
    "    \n",
    "    # iterate over caption\n",
    "    for key in descriptions.keys():\n",
    "        \n",
    "        # split caption up and add to set above\n",
    "        [all_desc.update(d.split()) for d in descriptions[key]]\n",
    "        \n",
    "    # return unique vocab    \n",
    "    return all_desc"
   ]
  },
  {
   "cell_type": "markdown",
   "id": "d91cf090",
   "metadata": {},
   "source": [
    "### Get unqiue vocab words"
   ]
  },
  {
   "cell_type": "code",
   "execution_count": 15,
   "id": "3f67817b",
   "metadata": {},
   "outputs": [
    {
     "name": "stdout",
     "output_type": "stream",
     "text": [
      "Vocabulary Size: 8763\n"
     ]
    }
   ],
   "source": [
    "# summarize vocabulary\n",
    "vocabulary = to_vocabulary(descriptions)\n",
    "print('Vocabulary Size: %d' % len(vocabulary))"
   ]
  },
  {
   "cell_type": "markdown",
   "id": "3c1b49a0",
   "metadata": {},
   "source": [
    "## Set up the deep learning loading of model"
   ]
  },
  {
   "cell_type": "code",
   "execution_count": 16,
   "id": "bec5b672",
   "metadata": {},
   "outputs": [],
   "source": [
    "# load a pre-defined list of photo identifiers\n",
    "\n",
    "def load_set(filename):\n",
    "    # load in a filename with images of interest\n",
    "    doc = load_doc(filename)\n",
    "    \n",
    "    # create empty list to append to \n",
    "    dataset = list()\n",
    "    \n",
    "    # iterate over split lines, each line is a different file name\n",
    "    for line in doc.split('\\n'):\n",
    "        \n",
    "        # skip empty lines\n",
    "        if len(line) < 1:\n",
    "            continue\n",
    "            \n",
    "        # get the image identifier dont carea bouat .jgg\n",
    "        identifier = line.split('.')[0]\n",
    "        \n",
    "        # appedn to earlier list\n",
    "        dataset.append(identifier)\n",
    "        \n",
    "    # return list of image names    \n",
    "    return set(dataset)"
   ]
  },
  {
   "cell_type": "code",
   "execution_count": 17,
   "id": "2e285c5c",
   "metadata": {},
   "outputs": [],
   "source": [
    "# function to load clean descriptions\n",
    "\n",
    "def load_clean_descriptions(filename, dataset):\n",
    "    \n",
    "    # load document\n",
    "    doc = load_doc(filename)\n",
    "    \n",
    "    # create emtpty dict\n",
    "    descriptions = dict()\n",
    "    \n",
    "    # iterate over split lines\n",
    "    for line in doc.split('\\n'):\n",
    "        \n",
    "        # split line by white space\n",
    "        tokens = line.split()\n",
    "        \n",
    "        # split id from description\n",
    "        image_id, image_desc = tokens[0], tokens[1:]\n",
    "        \n",
    "        # skip images not in the set\n",
    "        if image_id in dataset:\n",
    "            \n",
    "            # add image if not in dict\n",
    "            if image_id not in descriptions:\n",
    "                descriptions[image_id] = list()\n",
    "                \n",
    "            # wrap description in tokens \n",
    "            desc = 'startseq ' + ' '.join(image_desc) + ' endseq'\n",
    "            \n",
    "            # store\n",
    "            descriptions[image_id].append(desc)\n",
    "            \n",
    "    # return descriptions as dict { file1 : [caption1, caption2....], file2 : [capton1 ...]}        \n",
    "    return descriptions"
   ]
  },
  {
   "cell_type": "markdown",
   "id": "cc4f5083",
   "metadata": {},
   "source": [
    "### Load in relevant datasets"
   ]
  },
  {
   "cell_type": "code",
   "execution_count": 18,
   "id": "819d4284",
   "metadata": {},
   "outputs": [],
   "source": [
    "test = load_set(test_filename)\n",
    "combined = load_set(combined_filename)\n",
    "\n",
    "test_descriptions = load_clean_descriptions(filepath+'descriptions.txt', test)\n",
    "combined_descriptions = load_clean_descriptions(filepath+'descriptions.txt', combined)"
   ]
  },
  {
   "cell_type": "code",
   "execution_count": 19,
   "id": "974f2cf7",
   "metadata": {},
   "outputs": [],
   "source": [
    "# convert a dictionary of clean descriptions to a list of descriptions\n",
    "\n",
    "def to_lines(descriptions): \n",
    "    # create empty list\n",
    "    all_desc = list()\n",
    "    \n",
    "    # iterate over all keys\n",
    "    for key in descriptions.keys():\n",
    "        [all_desc.append(d) for d in descriptions[key]]\n",
    "    \n",
    "    return all_desc\n",
    "\n",
    "# fit a tokenizer given caption descriptions\n",
    "def create_tokenizer(descriptions):\n",
    "    \n",
    "    # use function to get each line of dict\n",
    "    lines = to_lines(descriptions)\n",
    "    \n",
    "    # apply tokenizer to line\n",
    "    tokenizer = Tokenizer()\n",
    "    \n",
    "    # fit using tf function\n",
    "    tokenizer.fit_on_texts(lines)\n",
    "    \n",
    "    return tokenizer"
   ]
  },
  {
   "cell_type": "markdown",
   "id": "4f37f7bb",
   "metadata": {},
   "source": [
    "## Tokenize words\n",
    "Need to add 1 to vocab to account for startseq"
   ]
  },
  {
   "cell_type": "code",
   "execution_count": 20,
   "id": "a477bcc2",
   "metadata": {},
   "outputs": [],
   "source": [
    "# Using combined train+validation to et list of unique vocab\n",
    "tokenizer = create_tokenizer(combined_descriptions)\n",
    "\n",
    "# add 1  becuase we added startseq to descriptions\n",
    "vocab_size = len(tokenizer.word_index) + 1"
   ]
  },
  {
   "cell_type": "code",
   "execution_count": 21,
   "id": "27b075b5",
   "metadata": {},
   "outputs": [],
   "source": [
    "# find maximum number of words in the whole combined set\n",
    "\n",
    "def max_length(description):\n",
    "\n",
    "    #set base of 0\n",
    "    length_max_caption_words = 0\n",
    "\n",
    "    # iterate over filename in dict\n",
    "    for image in list(description.keys()):\n",
    "        \n",
    "        #iterate over captions for each filename\n",
    "        for caption in description[image]:\n",
    "            \n",
    "            # split by white space\n",
    "            cap_split = caption.split(' ')\n",
    "\n",
    "            # count number of white space. words = number of white spaces +1 (e.g. A dog has 1 white space for two words)\n",
    "            if len(cap_split) > length_max_caption_words:\n",
    "                \n",
    "                # if length is larger than current length, update \n",
    "                length_max_caption_words = len(cap_split)\n",
    "                \n",
    "    # return the maximum lengt of any caption            \n",
    "    return length_max_caption_words            "
   ]
  },
  {
   "cell_type": "markdown",
   "id": "cde3980e",
   "metadata": {},
   "source": [
    "## Defining models\n",
    "\n",
    "l'm using three models in this notebook, inception_resnet_v2, efficientnet v2 and vgg19 \n",
    "I am also running another members code for mobilenetv3 small due to resource limitations with colab "
   ]
  },
  {
   "cell_type": "code",
   "execution_count": 22,
   "id": "c95dcc3e",
   "metadata": {},
   "outputs": [],
   "source": [
    "# define the captioning LSTM model - used for all lstm mode=ls eficientnet and vgg19\n",
    "def define_model_LSTM(vocab_size, max_length, model_input):\n",
    "    \n",
    "    # saves some effort being able to use input to select model\n",
    "    # inpu model and get input shape\n",
    "    if model_input == 'vgg19':\n",
    "        inputs1 = Input(shape=(4096,))\n",
    "    elif model_input == 'efficientnetv2s':\n",
    "        inputs1 = Input(shape=(1280,))\n",
    "        \n",
    "    # this might break \n",
    "    elif model_input == 'inception_resnet_v2':\n",
    "        inputs1 = Input(shape=(845,1536))    \n",
    "    elif model_input == 'mobilenetv3':\n",
    "        inputs1 = Input(shape=(845,1000))  \n",
    "    else:\n",
    "        print('unknown')\n",
    "        \n",
    "\n",
    "    # feature extractor modelVision side of the model\n",
    "    # layers in () denote that the layer is connected to that layer\n",
    "    \n",
    "    # implement dropout to limit overfitting\n",
    "    fe1 = Dropout(0.5)(inputs1)\n",
    "    # Add dense layer to connect everything\n",
    "    fe2 = Dense(256, activation='relu')(fe1)\n",
    "    \n",
    "    # sequence model token size of model\n",
    "    # use max_length as input size\n",
    "    inputs2 = Input(shape=(max_length,))\n",
    "    # embed using vocab size and 256\n",
    "    se1 = Embedding(vocab_size, 256, mask_zero=True)(inputs2)\n",
    "    # implement dropout to limit overfitting\n",
    "    se2 = Dropout(0.5)(se1)\n",
    "    # LSTM call\n",
    "    se3 = LSTM(256)(se2)\n",
    "    \n",
    "    \n",
    "    # decoder model\n",
    "    # add both vision and token data to one layer called decoder\n",
    "    decoder1 = add([fe2, se3])\n",
    "    # add a dense layer to help prediction\n",
    "    decoder2 = Dense(256, activation='relu')(decoder1)\n",
    "    # get outputs of predicted words\n",
    "    outputs = Dense(vocab_size, activation='softmax')(decoder2)\n",
    "    \n",
    "    # tie it together [image, seq] [word]\n",
    "    model = Model(inputs=[inputs1, inputs2], outputs=outputs)\n",
    "    # compile model using categorical cross entropy\n",
    "    model.compile(loss='categorical_crossentropy', optimizer='adam')\n",
    "    \n",
    "    # summarize model\n",
    "    print(model.summary())\n",
    "    plot_model\n",
    "    plot_model(model, to_file=filepath+model_input+'_LSTM_model.png', show_shapes=True)\n",
    "    return model"
   ]
  },
  {
   "cell_type": "code",
   "execution_count": 47,
   "id": "aad6cb6d",
   "metadata": {},
   "outputs": [],
   "source": [
    "# function to create GRU model, same architecture as LSTM except using GRU instead of LSTM\n",
    "\n",
    "def define_model_GRU(vocab_size, max_length, model_input):\n",
    "    \n",
    "    # use input to slect input shape\n",
    "    if model_input == 'vgg19':\n",
    "        inputs1 = Input(shape=(4096,))\n",
    "    elif model_input == 'efficientnetv2s':\n",
    "        inputs1 = Input(shape=(1280,))\n",
    "    elif model_input == 'inception_resnet_v2':\n",
    "        inputs1 = Input(shape=(845,1536))\n",
    "    elif model_input == 'mobilenetv3s':\n",
    "        inputs1 = Input(shape=(845,1000))  \n",
    "    else:\n",
    "        print('unknown')\n",
    "            \n",
    " # feature extractor modelVision side of the model\n",
    "    # layers in () denote that the layer is connected to that layer\n",
    "    \n",
    "    # implement dropout to limit overfitting\n",
    "    fe1 = Dropout(0.5)(inputs1)\n",
    "    # Add dense layer to connect everything\n",
    "    fe2 = Dense(256, activation='relu')(fe1)\n",
    "    \n",
    "    # sequence model token size of model\n",
    "    # use max_length as input size\n",
    "    inputs2 = Input(shape=(max_length,))\n",
    "    # embed using vocab size and 256\n",
    "    se1 = Embedding(vocab_size, 256, mask_zero=True)(inputs2)\n",
    "    # implement dropout to limit overfitting\n",
    "    se2 = Dropout(0.5)(se1)\n",
    "    # GRU call\n",
    "    se3 = GRU(256)(se2)\n",
    "    \n",
    "    \n",
    "    # decoder model\n",
    "    # add both vision and token data to one layer called decoder\n",
    "    decoder1 = add([fe2, se3])\n",
    "    # add a dense layer to help prediction\n",
    "    decoder2 = Dense(256, activation='relu')(decoder1)\n",
    "    # get outputs of predicted words\n",
    "    outputs = Dense(vocab_size, activation='softmax')(decoder2)\n",
    "    \n",
    "    # tie it together [image, seq] [word]\n",
    "    model = Model(inputs=[inputs1, inputs2], outputs=outputs)\n",
    "    # compile model using categorical cross entropy\n",
    "    model.compile(loss='categorical_crossentropy', optimizer='adam')\n",
    "    \n",
    "    # summarize model\n",
    "    print(model.summary())\n",
    "    plot_model\n",
    "    plot_model(model, to_file=filepath+model_input+'_GRU_model.png', show_shapes=True)\n",
    "    return model"
   ]
  },
  {
   "cell_type": "code",
   "execution_count": 24,
   "id": "6c2a733c",
   "metadata": {},
   "outputs": [],
   "source": [
    "# function to generate data\n",
    "# used as its too memory intensive to load all data at once therefore we need to create batches of data\n",
    "# it creates batch_size iages per run where for this case batch sizeze if set to 16\n",
    "# larger values were tried but ran into memory issues\n",
    "\n",
    "def datagenerator(captions, image_name, tokenizer, max_length, vocab_size, batch_size):\n",
    "# loop for ever over images\n",
    "\n",
    "    # create empty lists \n",
    "    # X1 = features\n",
    "    # X2 = tokens\n",
    "    # y = real caption\n",
    "    \n",
    "    X1, X2, y = list(), list(), list()\n",
    "    \n",
    "    # set counter so we can stop when we hit batch size\n",
    "    n= 0\n",
    "    \n",
    "    # go forever\n",
    "    while 1:\n",
    "        \n",
    "        #iteratre over filename and captions\n",
    "        for key, desc_list in captions.items(): # filename, caption\n",
    "            \n",
    "            # get photo name\n",
    "            photo = image_name[key][0]\n",
    "            \n",
    "            #increment count\n",
    "            n +=1\n",
    "    \n",
    "            # walk through each description for the image\n",
    "            for desc in desc_list:\n",
    "                \n",
    "                # encode the sequence using tokenizer \n",
    "                seq = tokenizer.texts_to_sequences([desc])[0]\n",
    "                \n",
    "                # split one sequence into multiple X,y pairs\n",
    "                for i in range(1, len(seq)):\n",
    "                    \n",
    "                    # split into input and output pair\n",
    "                    in_seq, out_seq = seq[:i], seq[i]\n",
    "                    \n",
    "                    # pad input sequence to max length\n",
    "                    in_seq = pad_sequences([in_seq], maxlen=max_length)[0]\n",
    "                    \n",
    "                    # encode output sequence\n",
    "                    out_seq = to_categorical([out_seq], num_classes=vocab_size)[0]\n",
    "                    \n",
    "                    # append \n",
    "                    X1.append(photo)\n",
    "                    X2.append(in_seq)\n",
    "                    y.append(out_seq)\n",
    "                 \n",
    "                # if we hit batch size, stop generating and feed into model\n",
    "                if n == batch_size: \n",
    "                    \n",
    "                    # put results into numpy arrays, squeeze needed to remove a dimension\n",
    "                    X1, X2, y = np.array(np.squeeze(X1)), np.array(X2), np.array(y)\n",
    "                    \n",
    "                    # yield resutls as they are live\n",
    "                    yield [[X1, X2], y]\n",
    "                    \n",
    "                    # reset lists, reset counter\n",
    "                    X1, X2, y = list(), list(), list()\n",
    "                    n = 0                     "
   ]
  },
  {
   "cell_type": "markdown",
   "id": "d8915c09",
   "metadata": {},
   "source": [
    "## show some infomation on datasets"
   ]
  },
  {
   "cell_type": "code",
   "execution_count": 25,
   "id": "9df35df7",
   "metadata": {},
   "outputs": [
    {
     "name": "stdout",
     "output_type": "stream",
     "text": [
      "Dataset: 6000\n",
      "Descriptions: train=6000\n",
      "Vocabulary Size: 7579\n",
      "Description Length: 34\n"
     ]
    }
   ],
   "source": [
    "# load training dataset (6K)\n",
    "filename = filepath+'Flickr8k_text/Flickr_8k.trainImages.txt'\n",
    "train = load_set(filename)\n",
    "print('Dataset: %d' % len(train))\n",
    "# descriptions\n",
    "train_descriptions = load_clean_descriptions('descriptions.txt', train)\n",
    "print('Descriptions: train=%d' % len(train_descriptions))\n",
    "# photo features\n",
    "\n",
    "# prepare tokenizer\n",
    "tokenizer = create_tokenizer(train_descriptions)\n",
    "vocab_size = len(tokenizer.word_index) + 1\n",
    "print('Vocabulary Size: %d' % vocab_size)\n",
    "# determine the maximum sequence length\n",
    "max_length = max_length(train_descriptions)\n",
    "print('Description Length: %d' % max_length)"
   ]
  },
  {
   "cell_type": "markdown",
   "id": "30b618f2",
   "metadata": {},
   "source": [
    "## Get features for vgg19 on combined and test images only"
   ]
  },
  {
   "cell_type": "code",
   "execution_count": 26,
   "id": "9361c5a0",
   "metadata": {},
   "outputs": [
    {
     "name": "stdout",
     "output_type": "stream",
     "text": [
      "vgg19_test_features.pkl path exists\n",
      "vgg19_combined_features.pkl path exists\n"
     ]
    }
   ],
   "source": [
    "# This block of code is reused for each seperate mode \n",
    "\n",
    "# Checking path exists for combined_features and test images\n",
    "# if path exists, open path and set variable to contents of pickled data\n",
    "# if path doesn't exist, run feature extractor on data and sae data so we don't have to redo this laborious process\n",
    "\n",
    "if os.path.exists(filepath+'vgg19_test_features.pkl'):\n",
    "    print('vgg19_test_features.pkl path exists')\n",
    "    fid = open(filepath+'vgg19_test_features.pkl', 'rb')\n",
    "    test_features_vgg19 = load(fid)\n",
    "    fid.close()    \n",
    "else:\n",
    "    print('Getting test features')\n",
    "    test_features_vgg19 = extract_features(test_filename,'vgg19')\n",
    "    dump(test_features_vgg19, open(filepath+'vgg19_test_features.pkl', 'wb'))\n",
    "    print('Finished getting test features')\n",
    "    \n",
    "if os.path.exists(filepath+'vgg19_combined_features.pkl'):\n",
    "    print('vgg19_combined_features.pkl path exists')\n",
    "    fid = open(filepath+'vgg19_combined_features.pkl', 'rb')\n",
    "    combined_features_vgg19 = load(fid)\n",
    "    fid.close()    \n",
    "else:\n",
    "    print('Getting combined features')\n",
    "    combined_features_vgg19 = extract_features(combined_filename,'vgg19')\n",
    "    dump(combined_features_vgg19, open(filepath+'vgg19_combined_features.pkl', 'wb'))\n",
    "    print('Finished getting combined features')"
   ]
  },
  {
   "cell_type": "markdown",
   "id": "9ca44c65",
   "metadata": {},
   "source": [
    "## Create model vgg19 LSTM"
   ]
  },
  {
   "cell_type": "code",
   "execution_count": 27,
   "id": "9f544a54",
   "metadata": {},
   "outputs": [
    {
     "name": "stdout",
     "output_type": "stream",
     "text": [
      "Model: \"model\"\n",
      "__________________________________________________________________________________________________\n",
      " Layer (type)                   Output Shape         Param #     Connected to                     \n",
      "==================================================================================================\n",
      " input_2 (InputLayer)           [(None, 34)]         0           []                               \n",
      "                                                                                                  \n",
      " input_1 (InputLayer)           [(None, 4096)]       0           []                               \n",
      "                                                                                                  \n",
      " embedding (Embedding)          (None, 34, 256)      1940224     ['input_2[0][0]']                \n",
      "                                                                                                  \n",
      " dropout (Dropout)              (None, 4096)         0           ['input_1[0][0]']                \n",
      "                                                                                                  \n",
      " dropout_1 (Dropout)            (None, 34, 256)      0           ['embedding[0][0]']              \n",
      "                                                                                                  \n",
      " dense (Dense)                  (None, 256)          1048832     ['dropout[0][0]']                \n",
      "                                                                                                  \n",
      " lstm (LSTM)                    (None, 256)          525312      ['dropout_1[0][0]']              \n",
      "                                                                                                  \n",
      " add (Add)                      (None, 256)          0           ['dense[0][0]',                  \n",
      "                                                                  'lstm[0][0]']                   \n",
      "                                                                                                  \n",
      " dense_1 (Dense)                (None, 256)          65792       ['add[0][0]']                    \n",
      "                                                                                                  \n",
      " dense_2 (Dense)                (None, 7579)         1947803     ['dense_1[0][0]']                \n",
      "                                                                                                  \n",
      "==================================================================================================\n",
      "Total params: 5,527,963\n",
      "Trainable params: 5,527,963\n",
      "Non-trainable params: 0\n",
      "__________________________________________________________________________________________________\n",
      "None\n"
     ]
    }
   ],
   "source": [
    "model_vgg19_LSTM = define_model_LSTM(vocab_size, max_length, 'vgg19')"
   ]
  },
  {
   "cell_type": "markdown",
   "id": "925d0c00",
   "metadata": {},
   "source": [
    "## Train vgg 19 LSTM model"
   ]
  },
  {
   "cell_type": "code",
   "execution_count": 28,
   "id": "95f639d1",
   "metadata": {},
   "outputs": [],
   "source": [
    "# train the model, run epochs manually and save after each epoch\n",
    "batch_size = 16\n",
    "epochs = 50\n",
    "steps = len(train_descriptions) // batch_size\n",
    "\n",
    "\n",
    "# list to collect history\n",
    "model_vgg19_LSTM_loss = []\n",
    "\n",
    "# check if path exists, if not create it\n",
    "if os.path.isdir(filepath+'vgg19_LSTM') == False:\n",
    "    os.mkdir(filepath+'vgg19_LSTM')\n",
    "\n",
    "# Check if there are epoch number of models in directory, training has already completed, if not train\n",
    "if len(os.listdir(filepath+'vgg19_LSTM')) == epochs:\n",
    "    pass\n",
    "else:\n",
    "    for i in range(epochs):\n",
    "        \n",
    "        print(i,' out of ', epochs)\n",
    "        \n",
    "        # create data using generator using features\n",
    "        generator = datagenerator(combined_descriptions, combined_features_vgg19, tokenizer, max_length, vocab_size,batch_size)\n",
    "        \n",
    "        # get model history\n",
    "        history_model_vgg19_LSTM = model_vgg19_LSTM.fit(generator, epochs=1, steps_per_epoch=steps, verbose=1)\n",
    "        \n",
    "        # append history to list\n",
    "        model_vgg19_LSTM_loss.append(history_model_vgg19_LSTM.history['loss'])    \n",
    "        \n",
    "        # save model to directory above\n",
    "        model_vgg19_LSTM.save(filepath+'vgg19_LSTM/'+'vgg19_LSTM_model_' + str(i) + '.h5')\n",
    "\n",
    "    # set list to dataframe and save as csv\n",
    "    model_vgg19_LSTM_loss_df = pd.DataFrame(model_vgg19_LSTM_loss, columns = ['model_vgg19_LSTM_loss'])\n",
    "    model_vgg19_LSTM_loss_df.to_csv(filepath+'vgg19_LSTM_loss.csv') "
   ]
  },
  {
   "cell_type": "markdown",
   "id": "9454a7de",
   "metadata": {},
   "source": [
    "## Setup VGG19 GRU model"
   ]
  },
  {
   "cell_type": "code",
   "execution_count": 29,
   "id": "3e9f55ce",
   "metadata": {},
   "outputs": [
    {
     "name": "stdout",
     "output_type": "stream",
     "text": [
      "Model: \"model_1\"\n",
      "__________________________________________________________________________________________________\n",
      " Layer (type)                   Output Shape         Param #     Connected to                     \n",
      "==================================================================================================\n",
      " input_4 (InputLayer)           [(None, 34)]         0           []                               \n",
      "                                                                                                  \n",
      " input_3 (InputLayer)           [(None, 4096)]       0           []                               \n",
      "                                                                                                  \n",
      " embedding_1 (Embedding)        (None, 34, 256)      1940224     ['input_4[0][0]']                \n",
      "                                                                                                  \n",
      " dropout_2 (Dropout)            (None, 4096)         0           ['input_3[0][0]']                \n",
      "                                                                                                  \n",
      " dropout_3 (Dropout)            (None, 34, 256)      0           ['embedding_1[0][0]']            \n",
      "                                                                                                  \n",
      " dense_3 (Dense)                (None, 256)          1048832     ['dropout_2[0][0]']              \n",
      "                                                                                                  \n",
      " gru (GRU)                      (None, 256)          394752      ['dropout_3[0][0]']              \n",
      "                                                                                                  \n",
      " add_1 (Add)                    (None, 256)          0           ['dense_3[0][0]',                \n",
      "                                                                  'gru[0][0]']                    \n",
      "                                                                                                  \n",
      " dense_4 (Dense)                (None, 256)          65792       ['add_1[0][0]']                  \n",
      "                                                                                                  \n",
      " dense_5 (Dense)                (None, 7579)         1947803     ['dense_4[0][0]']                \n",
      "                                                                                                  \n",
      "==================================================================================================\n",
      "Total params: 5,397,403\n",
      "Trainable params: 5,397,403\n",
      "Non-trainable params: 0\n",
      "__________________________________________________________________________________________________\n",
      "None\n"
     ]
    }
   ],
   "source": [
    "model_vgg19_GRU = define_model_GRU(vocab_size, max_length, 'vgg19')"
   ]
  },
  {
   "cell_type": "markdown",
   "id": "0575b6a6",
   "metadata": {},
   "source": [
    "## Train vgg19 GRU"
   ]
  },
  {
   "cell_type": "code",
   "execution_count": 30,
   "id": "55253ab0",
   "metadata": {},
   "outputs": [],
   "source": [
    "# train the model, run epochs manually and save after each epoch\n",
    "batch_size = 16\n",
    "epochs = 50\n",
    "steps = len(train_descriptions) // batch_size\n",
    "\n",
    "# empty list to track history\n",
    "model_vgg19_GRU_loss = []\n",
    "\n",
    "# Check if directory has been created, if not make it\n",
    "if os.path.isdir(filepath+'vgg19_GRU') == False:\n",
    "    os.mkdir(filepath+'vgg19_GRU')\n",
    "\n",
    "    \n",
    "# Check if there are epoch number of models in directory, training has already completed, if not train\n",
    "if len(os.listdir(filepath+'vgg19_GRU')) == epochs:\n",
    "    pass\n",
    "else:\n",
    "    for i in range(epochs):\n",
    "        print(i,' out of ', epochs)\n",
    "        \n",
    "        # create data using generator using features\n",
    "        generator = datagenerator(combined_descriptions, combined_features_vgg19, tokenizer, max_length, vocab_size,batch_size)\n",
    "        \n",
    "        # get model history\n",
    "        history_model_vgg19_GRU = model_vgg19_GRU.fit(generator, epochs=1, steps_per_epoch=steps, verbose=1)\n",
    "        \n",
    "        # append history to list\n",
    "        model_vgg19_GRU_loss.append(history_model_vgg19_GRU.history['loss'])      \n",
    "        \n",
    "        # save model to directory above\n",
    "        model_vgg19_GRU.save(filepath+'vgg19_GRU/'+'vgg19_GRU_model_' + str(i) + '.h5')\n",
    "\n",
    "    # set list to dataframe and save as csv\n",
    "    model_vgg19_GRU_loss_df = pd.DataFrame(model_vgg19_GRU_loss, columns = ['model_vgg19_GRU_loss'])\n",
    "    model_vgg19_GRU_loss_df.to_csv(filepath+'model_vgg19_GRU_loss.csv') "
   ]
  },
  {
   "cell_type": "markdown",
   "id": "120671be",
   "metadata": {},
   "source": [
    "## Set up Mobilenetv3 small"
   ]
  },
  {
   "cell_type": "code",
   "execution_count": 31,
   "id": "8e6deb46",
   "metadata": {
    "scrolled": true
   },
   "outputs": [
    {
     "name": "stdout",
     "output_type": "stream",
     "text": [
      "mobilenetv3s_test_features.pkl path exists\n",
      "mobilenetv3s_combined_features.pkl path exists\n"
     ]
    }
   ],
   "source": [
    "# Checking path exists for combined_features and test images\n",
    "# if path exists, open path and set variable to contents of pickled data\n",
    "# if path doesn't exist, run feature extractor on data and sae data so we don't have to redo this laborious process\n",
    "\n",
    "\n",
    "# Test\n",
    "if os.path.exists(filepath+'mobilenetv3s_test_features.pkl'):\n",
    "    print('mobilenetv3s_test_features.pkl path exists')\n",
    "    fid = open(filepath+'mobilenetv3s_test_features.pkl', 'rb')\n",
    "    test_features_mobilenetv3s = load(fid)\n",
    "    fid.close()    \n",
    "else:\n",
    "    print('Getting test features')\n",
    "    test_features_mobilenetv3s = extract_features(test_filename,'mobilenetv3s')\n",
    "    dump(test_features_mobilenetv3s, open(filepath+'mobilenetv3s_test_features.pkl', 'wb'))\n",
    "    print('Finished getting test features')\n",
    "\n",
    "# Combined\n",
    "if os.path.exists(filepath+'mobilenetv3s_combined_features.pkl'):\n",
    "    print('mobilenetv3s_combined_features.pkl path exists')\n",
    "    fid = open(filepath+'mobilenetv3s_combined_features.pkl', 'rb')\n",
    "    combined_features_mobilenetv3s = load(fid)\n",
    "    fid.close()    \n",
    "else:\n",
    "    print('Getting combined features')\n",
    "    combined_features_mobilenetv3s = extract_features(combined_filename,'mobilenetv3s')\n",
    "    dump(combined_features_mobilenetv3s, open(filepath+'mobilenetv3s_combined_features.pkl', 'wb'))\n",
    "    print('Finished getting combined features')\n"
   ]
  },
  {
   "cell_type": "markdown",
   "id": "40ef87a6",
   "metadata": {},
   "source": [
    "## Mobilenetv3 GRU"
   ]
  },
  {
   "cell_type": "code",
   "execution_count": 32,
   "id": "a7d6023f",
   "metadata": {},
   "outputs": [
    {
     "name": "stdout",
     "output_type": "stream",
     "text": [
      "Model: \"model_2\"\n",
      "__________________________________________________________________________________________________\n",
      " Layer (type)                   Output Shape         Param #     Connected to                     \n",
      "==================================================================================================\n",
      " input_6 (InputLayer)           [(None, 34)]         0           []                               \n",
      "                                                                                                  \n",
      " input_5 (InputLayer)           [(None, 845, 1000)]  0           []                               \n",
      "                                                                                                  \n",
      " embedding_2 (Embedding)        (None, 34, 256)      1940224     ['input_6[0][0]']                \n",
      "                                                                                                  \n",
      " dropout_4 (Dropout)            (None, 845, 1000)    0           ['input_5[0][0]']                \n",
      "                                                                                                  \n",
      " dropout_5 (Dropout)            (None, 34, 256)      0           ['embedding_2[0][0]']            \n",
      "                                                                                                  \n",
      " dense_6 (Dense)                (None, 845, 256)     256256      ['dropout_4[0][0]']              \n",
      "                                                                                                  \n",
      " gru_1 (GRU)                    (None, 256)          394752      ['dropout_5[0][0]']              \n",
      "                                                                                                  \n",
      " add_2 (Add)                    (None, 845, 256)     0           ['dense_6[0][0]',                \n",
      "                                                                  'gru_1[0][0]']                  \n",
      "                                                                                                  \n",
      " dense_7 (Dense)                (None, 845, 256)     65792       ['add_2[0][0]']                  \n",
      "                                                                                                  \n",
      " dense_8 (Dense)                (None, 845, 7579)    1947803     ['dense_7[0][0]']                \n",
      "                                                                                                  \n",
      "==================================================================================================\n",
      "Total params: 4,604,827\n",
      "Trainable params: 4,604,827\n",
      "Non-trainable params: 0\n",
      "__________________________________________________________________________________________________\n",
      "None\n"
     ]
    }
   ],
   "source": [
    "model_mobilenetv3s_GRU = define_model_GRU(vocab_size, max_length, 'mobilenetv3s')"
   ]
  },
  {
   "cell_type": "code",
   "execution_count": 33,
   "id": "e0cdd984",
   "metadata": {},
   "outputs": [],
   "source": [
    "# train the model, run epochs manually and save after each epoch\n",
    "batch_size = 16\n",
    "epochs = 50\n",
    "steps = len(train_descriptions) // batch_size\n",
    "\n",
    "# create empty list to track hisory\n",
    "model_mobilenetv3s_GRU_loss = []\n",
    "\n",
    "# Check if directory has been created, if not make it\n",
    "if os.path.isdir(filepath+'mobilenetv3s_GRU') == False:\n",
    "    os.mkdir(filepath+'mobilenetv3s_GRU')\n",
    "    \n",
    "    \n",
    "# Check if there are epoch number of models in directory, training has already completed, if not train\n",
    "if len(os.listdir(filepath+'mobilenetv3s_GRU')) == epochs:\n",
    "    pass\n",
    "else:\n",
    "    \n",
    "    for i in range(epochs):\n",
    "        print(i,' out of ', epochs)\n",
    "        \n",
    "        # create data using generator using features\n",
    "        generator = datagenerator(combined_descriptions, combined_features_mobilenetv3s, tokenizer, max_length, vocab_size,batch_size)\n",
    "        \n",
    "        # get model history\n",
    "        history_model_mobilenetv3s_GRU =  model_mobilenetv3s_GRU.fit(generator, epochs=1, steps_per_epoch=steps, verbose=1)\n",
    "        \n",
    "        # append history to list\n",
    "        model_mobilenetv3s_GRU.save(filepath+'mobilenetv3s_GRU/'+'mobilenetv3s_GRU_model_' + str(i) + '.h5')\n",
    "        \n",
    "        # save model to directory above\n",
    "        model_mobilenetv3s_GRU_loss.append(history_model_mobilenetv3s_GRU.history['loss'])      \n",
    "\n",
    "    # set list to dataframe and save as csv\n",
    "    model_mobilenetv3s_GRU_loss_df = pd.DataFrame(model_mobilenetv3s_GRU_loss, columns = ['model_mobilenetv3s_GRU_loss'])\n",
    "    model_mobilenetv3s_GRU_loss_df.to_csv(filepath+'model_mobilenetv3s_GRU_loss_.csv') "
   ]
  },
  {
   "cell_type": "markdown",
   "id": "06e47221",
   "metadata": {},
   "source": [
    "# Setup EfficientNet v2 s LSTM"
   ]
  },
  {
   "cell_type": "code",
   "execution_count": 34,
   "id": "bacd5be0",
   "metadata": {},
   "outputs": [
    {
     "name": "stdout",
     "output_type": "stream",
     "text": [
      "efficientnetv2s_test_features.pkl path exists\n",
      "efficientnetv2s_combined_features.pkl path exists\n"
     ]
    }
   ],
   "source": [
    "# Checking path exists for combined_features and test images\n",
    "# if path exists, open path and set variable to contents of pickled data\n",
    "# if path doesn't exist, run feature extractor on data and sae data so we don't have to redo this laborious process\n",
    "\n",
    "# Test\n",
    "if os.path.exists(filepath+'efficientnetv2s_test_features.pkl'):\n",
    "    print('efficientnetv2s_test_features.pkl path exists')\n",
    "    fid = open(filepath+'efficientnetv2s_test_features.pkl', 'rb')\n",
    "    test_features_efficientnetv2s = load(fid)\n",
    "    fid.close()    \n",
    "else:\n",
    "    print('Getting test features')\n",
    "    test_features_efficientnetv2s = extract_features(test_filename,'efficientnetv2s')\n",
    "    dump(test_features_efficientnetv2s, open(filepath+'efficientnetv2s_test_features.pkl', 'wb'))\n",
    "    print('Finished getting test features')\n",
    "\n",
    "# Combined\n",
    "if os.path.exists(filepath+'efficientnetv2s_combined_features.pkl'):\n",
    "    print('efficientnetv2s_combined_features.pkl path exists')\n",
    "    fid = open(filepath+'efficientnetv2s_combined_features.pkl', 'rb')\n",
    "    combined_features_efficientnetv2s = load(fid)\n",
    "    fid.close()    \n",
    "else:\n",
    "    print('Getting combined features')\n",
    "    combined_features_efficientnetv2s = extract_features(combined_filename,'efficientnetv2s')\n",
    "    dump(combined_features_efficientnetv2s, open(filepath+'efficientnetv2s_combined_features.pkl', 'wb'))\n",
    "    print('Finished getting combined features')\n"
   ]
  },
  {
   "cell_type": "markdown",
   "id": "981ebb40",
   "metadata": {},
   "source": [
    "## Define EfficientNet v2 s using LSTM model architecture"
   ]
  },
  {
   "cell_type": "code",
   "execution_count": 35,
   "id": "78a0c88d",
   "metadata": {},
   "outputs": [
    {
     "name": "stdout",
     "output_type": "stream",
     "text": [
      "Model: \"model_3\"\n",
      "__________________________________________________________________________________________________\n",
      " Layer (type)                   Output Shape         Param #     Connected to                     \n",
      "==================================================================================================\n",
      " input_8 (InputLayer)           [(None, 34)]         0           []                               \n",
      "                                                                                                  \n",
      " input_7 (InputLayer)           [(None, 1280)]       0           []                               \n",
      "                                                                                                  \n",
      " embedding_3 (Embedding)        (None, 34, 256)      1940224     ['input_8[0][0]']                \n",
      "                                                                                                  \n",
      " dropout_6 (Dropout)            (None, 1280)         0           ['input_7[0][0]']                \n",
      "                                                                                                  \n",
      " dropout_7 (Dropout)            (None, 34, 256)      0           ['embedding_3[0][0]']            \n",
      "                                                                                                  \n",
      " dense_9 (Dense)                (None, 256)          327936      ['dropout_6[0][0]']              \n",
      "                                                                                                  \n",
      " lstm_1 (LSTM)                  (None, 256)          525312      ['dropout_7[0][0]']              \n",
      "                                                                                                  \n",
      " add_3 (Add)                    (None, 256)          0           ['dense_9[0][0]',                \n",
      "                                                                  'lstm_1[0][0]']                 \n",
      "                                                                                                  \n",
      " dense_10 (Dense)               (None, 256)          65792       ['add_3[0][0]']                  \n",
      "                                                                                                  \n",
      " dense_11 (Dense)               (None, 7579)         1947803     ['dense_10[0][0]']               \n",
      "                                                                                                  \n",
      "==================================================================================================\n",
      "Total params: 4,807,067\n",
      "Trainable params: 4,807,067\n",
      "Non-trainable params: 0\n",
      "__________________________________________________________________________________________________\n",
      "None\n"
     ]
    }
   ],
   "source": [
    "model_efficientnetv2s_LSTM = define_model_LSTM(vocab_size, max_length, 'efficientnetv2s')"
   ]
  },
  {
   "cell_type": "markdown",
   "id": "bf2c52ef",
   "metadata": {},
   "source": [
    "## Train EfficientNet v2 s model LSTM"
   ]
  },
  {
   "cell_type": "code",
   "execution_count": 36,
   "id": "b48ccfeb",
   "metadata": {},
   "outputs": [],
   "source": [
    "# train the model, run epochs manually and save after each epoch\n",
    "batch_size = 16\n",
    "epochs = 50\n",
    "steps = len(train_descriptions) // batch_size\n",
    "\n",
    "# create empty list to track hisory\n",
    "model_efficientnetv2s_LSTM_loss = []\n",
    "\n",
    "# Check if directory has been created, if not make it\n",
    "if os.path.isdir(filepath+'efficientnetv2s_LSTM') == False:\n",
    "    os.mkdir(filepath+'efficientnetv2s_LSTM')\n",
    "    \n",
    "    \n",
    "# Check if there are epoch number of models in directory, training has already completed, if not train\n",
    "if len(os.listdir(filepath+'efficientnetv2s_LSTM')) == epochs:\n",
    "    pass\n",
    "else:\n",
    "    \n",
    "    for i in range(epochs):\n",
    "        print(i,' out of ', epochs)\n",
    "        \n",
    "        # create data using generator using features\n",
    "        generator = datagenerator(combined_descriptions, combined_features_efficientnetv2s, tokenizer, max_length, vocab_size,batch_size)\n",
    "        \n",
    "        # get model history\n",
    "        history_model_efficientnetv2s_LSTM =  model_efficientnetv2s_LSTM.fit(generator, epochs=1, steps_per_epoch=steps, verbose=1)\n",
    "\n",
    "        # append history to list\n",
    "        model_efficientnetv2s_LSTM.save(filepath+'efficientnetv2s_LSTM/'+'efficientnetv2s_LSTM_model_' + str(i) + '.h5')\n",
    "        \n",
    "        # save model to directory above\n",
    "        model_efficientnetv2s_LSTM_loss.append(history_model_efficientnetv2s_LSTM.history['loss'])      \n",
    "\n",
    "    # set list to dataframe and save as csv\n",
    "    model_efficientnetv2s_LSTM_loss_df = pd.DataFrame(model_efficientnetv2s_LSTM_loss, columns = ['model_efficientnetv2s_LSTM_loss'])\n",
    "    model_efficientnetv2s_LSTM_loss_df.to_csv(filepath+'model_efficientnetv2s_LSTM_loss.csv') "
   ]
  },
  {
   "cell_type": "markdown",
   "id": "5664d6ce",
   "metadata": {},
   "source": [
    "## Set up EfficientNet v2 s GRU architecture"
   ]
  },
  {
   "cell_type": "code",
   "execution_count": 37,
   "id": "09ce915c",
   "metadata": {},
   "outputs": [
    {
     "name": "stdout",
     "output_type": "stream",
     "text": [
      "Model: \"model_4\"\n",
      "__________________________________________________________________________________________________\n",
      " Layer (type)                   Output Shape         Param #     Connected to                     \n",
      "==================================================================================================\n",
      " input_10 (InputLayer)          [(None, 34)]         0           []                               \n",
      "                                                                                                  \n",
      " input_9 (InputLayer)           [(None, 1280)]       0           []                               \n",
      "                                                                                                  \n",
      " embedding_4 (Embedding)        (None, 34, 256)      1940224     ['input_10[0][0]']               \n",
      "                                                                                                  \n",
      " dropout_8 (Dropout)            (None, 1280)         0           ['input_9[0][0]']                \n",
      "                                                                                                  \n",
      " dropout_9 (Dropout)            (None, 34, 256)      0           ['embedding_4[0][0]']            \n",
      "                                                                                                  \n",
      " dense_12 (Dense)               (None, 256)          327936      ['dropout_8[0][0]']              \n",
      "                                                                                                  \n",
      " gru_2 (GRU)                    (None, 256)          394752      ['dropout_9[0][0]']              \n",
      "                                                                                                  \n",
      " add_4 (Add)                    (None, 256)          0           ['dense_12[0][0]',               \n",
      "                                                                  'gru_2[0][0]']                  \n",
      "                                                                                                  \n",
      " dense_13 (Dense)               (None, 256)          65792       ['add_4[0][0]']                  \n",
      "                                                                                                  \n",
      " dense_14 (Dense)               (None, 7579)         1947803     ['dense_13[0][0]']               \n",
      "                                                                                                  \n",
      "==================================================================================================\n",
      "Total params: 4,676,507\n",
      "Trainable params: 4,676,507\n",
      "Non-trainable params: 0\n",
      "__________________________________________________________________________________________________\n",
      "None\n"
     ]
    }
   ],
   "source": [
    "model_efficientnetv2s_GRU = define_model_GRU(vocab_size, max_length, 'efficientnetv2s')"
   ]
  },
  {
   "cell_type": "markdown",
   "id": "2a120821",
   "metadata": {},
   "source": [
    "## Train EfficientNet v2 s GRU model"
   ]
  },
  {
   "cell_type": "code",
   "execution_count": 38,
   "id": "1930c3af",
   "metadata": {},
   "outputs": [],
   "source": [
    "# train the model, run epochs manually and save after each epoch\n",
    "\n",
    "batch_size = 16\n",
    "epochs = 50\n",
    "steps = len(train_descriptions) // batch_size\n",
    "\n",
    "# create empty list to track hisory\n",
    "model_efficientnetv2s_GRU_loss = []\n",
    "\n",
    "# Check if directory has been created, if not make it\n",
    "if os.path.isdir(filepath+'efficientnetv2s_GRU') == False:\n",
    "    os.mkdir(filepath+'efficientnetv2s_GRU')\n",
    "    \n",
    "    \n",
    "# Check if there are epoch number of models in directory, training has already completed, if not train\n",
    "if len(os.listdir(filepath+'efficientnetv2s_GRU')) == epochs:\n",
    "    pass\n",
    "else:\n",
    "    \n",
    "    for i in range(epochs):\n",
    "        print(i,' out of ', epochs)\n",
    "        \n",
    "        # create data using generator using features\n",
    "        generator = datagenerator(combined_descriptions, combined_features_efficientnetv2s, tokenizer, max_length, vocab_size,batch_size)\n",
    "        \n",
    "        # get model history\n",
    "        history_model_efficientnetv2s_GRU =  model_efficientnetv2s_GRU.fit(generator, epochs=1, steps_per_epoch=steps, verbose=1)\n",
    "\n",
    "        # append history to list\n",
    "        model_efficientnetv2s_GRU.save(filepath+'efficientnetv2s_GRU/'+'efficientnetv2s_GRU_model_' + str(i) + '.h5')\n",
    "        \n",
    "        # save model to directory above\n",
    "        model_efficientnetv2s_GRU_loss.append(history_model_efficientnetv2s_GRU.history['loss'])      \n",
    "\n",
    "    # set list to dataframe and save as csv\n",
    "    model_efficientnetv2s_GRU_loss_df = pd.DataFrame(model_efficientnetv2s_GRU_loss, columns = ['model_efficientnetv2s_GRU_loss'])\n",
    "    model_efficientnetv2s_GRU_loss_df.to_csv(filepath+'model_efficientnetv2s_GRU_loss.csv') "
   ]
  },
  {
   "cell_type": "markdown",
   "id": "60af894a",
   "metadata": {},
   "source": [
    "# Setup Inception Resnet v2"
   ]
  },
  {
   "cell_type": "markdown",
   "id": "89c090a2",
   "metadata": {},
   "source": [
    "## Get features"
   ]
  },
  {
   "cell_type": "code",
   "execution_count": 39,
   "id": "f73ab0e1",
   "metadata": {},
   "outputs": [
    {
     "name": "stdout",
     "output_type": "stream",
     "text": [
      "inception_resnet_v2_test_features.pkl path exists\n",
      "inception_resnet_v2_combined_features.pkl path exists\n"
     ]
    }
   ],
   "source": [
    "# Checking path exists for combined_features and test images\n",
    "# if path exists, open path and set variable to contents of pickled data\n",
    "# if path doesn't exist, run feature extractor on data and sae data so we don't have to redo this laborious process\n",
    "    \n",
    "if os.path.exists(filepath+'inception_resnet_v2_test_features.pkl'):\n",
    "    print('inception_resnet_v2_test_features.pkl path exists')\n",
    "    fid = open(filepath+'inception_resnet_v2_test_features.pkl', 'rb')\n",
    "    test_features_inception_resnet_v2 = load(fid)\n",
    "    fid.close()    \n",
    "else:\n",
    "    print('Getting test features')\n",
    "    test_features_inception_resnet_v2 = extract_features(test_filename,'inception_resnet_v2')\n",
    "    dump(test_features_inception_resnet_v2, open(filepath+'inception_resnet_v2_test_features.pkl', 'wb'))\n",
    "    print('Finished getting test features')\n",
    "    \n",
    "if os.path.exists(filepath+'inception_resnet_v2_combined_features.pkl'):\n",
    "    print('inception_resnet_v2_combined_features.pkl path exists')\n",
    "    fid = open(filepath+'inception_resnet_v2_combined_features.pkl', 'rb')\n",
    "    combined_features_inception_resnet_v2 = load(fid)\n",
    "    fid.close()    \n",
    "else:\n",
    "    print('Getting combined features')\n",
    "    combined_features_inception_resnet_v2 = extract_features(combined_filename,'inception_resnet_v2')\n",
    "    dump(combined_features_inception_resnet_v2, open(filepath+'inception_resnet_v2_combined_features.pkl', 'wb'))\n",
    "    print('Finished getting combined features')\n"
   ]
  },
  {
   "cell_type": "markdown",
   "id": "8f5f59e6",
   "metadata": {},
   "source": [
    "## Setup Inception Resnet v2 LSTM model architecture"
   ]
  },
  {
   "cell_type": "code",
   "execution_count": 40,
   "id": "0dfad69c",
   "metadata": {},
   "outputs": [
    {
     "name": "stdout",
     "output_type": "stream",
     "text": [
      "Model: \"model_5\"\n",
      "__________________________________________________________________________________________________\n",
      " Layer (type)                   Output Shape         Param #     Connected to                     \n",
      "==================================================================================================\n",
      " input_12 (InputLayer)          [(None, 34)]         0           []                               \n",
      "                                                                                                  \n",
      " input_11 (InputLayer)          [(None, 845, 1536)]  0           []                               \n",
      "                                                                                                  \n",
      " embedding_5 (Embedding)        (None, 34, 256)      1940224     ['input_12[0][0]']               \n",
      "                                                                                                  \n",
      " dropout_10 (Dropout)           (None, 845, 1536)    0           ['input_11[0][0]']               \n",
      "                                                                                                  \n",
      " dropout_11 (Dropout)           (None, 34, 256)      0           ['embedding_5[0][0]']            \n",
      "                                                                                                  \n",
      " dense_15 (Dense)               (None, 845, 256)     393472      ['dropout_10[0][0]']             \n",
      "                                                                                                  \n",
      " lstm_2 (LSTM)                  (None, 256)          525312      ['dropout_11[0][0]']             \n",
      "                                                                                                  \n",
      " add_5 (Add)                    (None, 845, 256)     0           ['dense_15[0][0]',               \n",
      "                                                                  'lstm_2[0][0]']                 \n",
      "                                                                                                  \n",
      " dense_16 (Dense)               (None, 845, 256)     65792       ['add_5[0][0]']                  \n",
      "                                                                                                  \n",
      " dense_17 (Dense)               (None, 845, 7579)    1947803     ['dense_16[0][0]']               \n",
      "                                                                                                  \n",
      "==================================================================================================\n",
      "Total params: 4,872,603\n",
      "Trainable params: 4,872,603\n",
      "Non-trainable params: 0\n",
      "__________________________________________________________________________________________________\n",
      "None\n"
     ]
    }
   ],
   "source": [
    "model_inception_resnet_v2_LSTM = define_model_LSTM(vocab_size, max_length, 'inception_resnet_v2')"
   ]
  },
  {
   "cell_type": "code",
   "execution_count": 41,
   "id": "184888dc",
   "metadata": {},
   "outputs": [
    {
     "name": "stdout",
     "output_type": "stream",
     "text": [
      "0  out of  50\n",
      "WARNING:tensorflow:Model was constructed with shape (None, 845, 1536) for input KerasTensor(type_spec=TensorSpec(shape=(None, 845, 1536), dtype=tf.float32, name='input_11'), name='input_11', description=\"created by layer 'input_11'\"), but it was called on an input with incompatible shape (None, None).\n",
      "WARNING:tensorflow:Model was constructed with shape (None, 845, 1536) for input KerasTensor(type_spec=TensorSpec(shape=(None, 845, 1536), dtype=tf.float32, name='input_11'), name='input_11', description=\"created by layer 'input_11'\"), but it was called on an input with incompatible shape (None, None).\n",
      "375/375 [==============================] - 72s 184ms/step - loss: 6.0232\n",
      "1  out of  50\n",
      "375/375 [==============================] - 70s 187ms/step - loss: 4.5453\n",
      "2  out of  50\n",
      "375/375 [==============================] - 71s 189ms/step - loss: 4.2302\n",
      "3  out of  50\n",
      "375/375 [==============================] - 71s 189ms/step - loss: 4.0149\n",
      "4  out of  50\n",
      "375/375 [==============================] - 71s 188ms/step - loss: 3.8537\n",
      "5  out of  50\n",
      "375/375 [==============================] - 71s 190ms/step - loss: 3.7273\n",
      "6  out of  50\n",
      "375/375 [==============================] - 71s 189ms/step - loss: 3.6202\n",
      "7  out of  50\n",
      "375/375 [==============================] - 72s 191ms/step - loss: 3.5264\n",
      "8  out of  50\n",
      "375/375 [==============================] - 71s 190ms/step - loss: 3.4423\n",
      "9  out of  50\n",
      "375/375 [==============================] - 75s 200ms/step - loss: 3.3631\n",
      "10  out of  50\n",
      "375/375 [==============================] - 72s 192ms/step - loss: 3.2903\n",
      "11  out of  50\n",
      "375/375 [==============================] - 70s 188ms/step - loss: 3.2219\n",
      "12  out of  50\n",
      "375/375 [==============================] - 71s 190ms/step - loss: 3.1582\n",
      "13  out of  50\n",
      "375/375 [==============================] - 71s 189ms/step - loss: 3.0985\n",
      "14  out of  50\n",
      "375/375 [==============================] - 72s 193ms/step - loss: 3.0445\n",
      "15  out of  50\n",
      "375/375 [==============================] - 71s 188ms/step - loss: 2.9945\n",
      "16  out of  50\n",
      "375/375 [==============================] - 71s 189ms/step - loss: 2.9459\n",
      "17  out of  50\n",
      "375/375 [==============================] - 72s 191ms/step - loss: 2.8987\n",
      "18  out of  50\n",
      "375/375 [==============================] - 71s 189ms/step - loss: 2.8565\n",
      "19  out of  50\n",
      "375/375 [==============================] - 71s 190ms/step - loss: 2.8145\n",
      "20  out of  50\n",
      "375/375 [==============================] - 71s 190ms/step - loss: 2.7775\n",
      "21  out of  50\n",
      "375/375 [==============================] - 71s 191ms/step - loss: 2.7449\n",
      "22  out of  50\n",
      "375/375 [==============================] - 75s 200ms/step - loss: 2.7072\n",
      "23  out of  50\n",
      "375/375 [==============================] - 73s 196ms/step - loss: 2.6753\n",
      "24  out of  50\n",
      "375/375 [==============================] - 74s 198ms/step - loss: 2.6434\n",
      "25  out of  50\n",
      "375/375 [==============================] - 74s 198ms/step - loss: 2.6136\n",
      "26  out of  50\n",
      "375/375 [==============================] - 78s 208ms/step - loss: 2.5856\n",
      "27  out of  50\n",
      "375/375 [==============================] - 75s 200ms/step - loss: 2.5595\n",
      "28  out of  50\n",
      "375/375 [==============================] - 73s 195ms/step - loss: 2.5327\n",
      "29  out of  50\n",
      "375/375 [==============================] - 72s 191ms/step - loss: 2.5100\n",
      "30  out of  50\n",
      "375/375 [==============================] - 73s 195ms/step - loss: 2.4847\n",
      "31  out of  50\n",
      "375/375 [==============================] - 73s 194ms/step - loss: 2.4638\n",
      "32  out of  50\n",
      "375/375 [==============================] - 74s 197ms/step - loss: 2.4447\n",
      "33  out of  50\n",
      "375/375 [==============================] - 70s 187ms/step - loss: 2.4238\n",
      "34  out of  50\n",
      "375/375 [==============================] - 71s 190ms/step - loss: 2.4051\n",
      "35  out of  50\n",
      "375/375 [==============================] - 71s 190ms/step - loss: 2.3861\n",
      "36  out of  50\n",
      "375/375 [==============================] - 72s 192ms/step - loss: 2.3697\n",
      "37  out of  50\n",
      "375/375 [==============================] - 71s 189ms/step - loss: 2.3532\n",
      "38  out of  50\n",
      "375/375 [==============================] - 72s 193ms/step - loss: 2.3368\n",
      "39  out of  50\n",
      "375/375 [==============================] - 72s 191ms/step - loss: 2.3175\n",
      "40  out of  50\n",
      "375/375 [==============================] - 73s 195ms/step - loss: 2.3030\n",
      "41  out of  50\n",
      "375/375 [==============================] - 71s 189ms/step - loss: 2.2864\n",
      "42  out of  50\n",
      "375/375 [==============================] - 71s 191ms/step - loss: 2.2714\n",
      "43  out of  50\n",
      "375/375 [==============================] - 72s 192ms/step - loss: 2.2557\n",
      "44  out of  50\n",
      "375/375 [==============================] - 71s 190ms/step - loss: 2.2439\n",
      "45  out of  50\n",
      "375/375 [==============================] - 72s 193ms/step - loss: 2.2320\n",
      "46  out of  50\n",
      "375/375 [==============================] - 71s 190ms/step - loss: 2.2208\n",
      "47  out of  50\n",
      "375/375 [==============================] - 71s 189ms/step - loss: 2.2116\n",
      "48  out of  50\n",
      "375/375 [==============================] - 71s 190ms/step - loss: 2.2002\n",
      "49  out of  50\n",
      "375/375 [==============================] - 70s 187ms/step - loss: 2.1893\n"
     ]
    }
   ],
   "source": [
    "# train the model, run epochs manually and save after each epoch\n",
    "batch_size = 16\n",
    "epochs = 50\n",
    "steps = len(train_descriptions) // batch_size\n",
    "\n",
    "# create empty list to track hisory\n",
    "model_inception_resnet_v2_LSTM_loss = []\n",
    "\n",
    "# Check if directory has been created, if not make it\n",
    "if os.path.isdir(filepath+'inception_resnet_v2_LSTM') == False:\n",
    "    os.mkdir(filepath+'inception_resnet_v2_LSTM')\n",
    "    \n",
    "    \n",
    "# Check if there are epoch number of models in directory, training has already completed, if not train\n",
    "if len(os.listdir(filepath+'inception_resnet_v2_LSTM')) == epochs:\n",
    "    pass\n",
    "else:\n",
    "    \n",
    "    for i in range(epochs):\n",
    "        print(i,' out of ', epochs)\n",
    "        \n",
    "        # create data using generator using features\n",
    "        generator = datagenerator(combined_descriptions, combined_features_inception_resnet_v2, tokenizer, max_length, vocab_size,batch_size)\n",
    "        \n",
    "        # get model history\n",
    "        history_model_inception_resnet_v2_LSTM = model_inception_resnet_v2_LSTM.fit(generator, epochs=1, steps_per_epoch=steps, verbose=1)\n",
    "        \n",
    "        # append history to list\n",
    "        model_inception_resnet_v2_LSTM_loss.append(history_model_inception_resnet_v2_LSTM.history['loss'])\n",
    "        \n",
    "        # save model to directory above\n",
    "        model_inception_resnet_v2_LSTM.save(filepath+'inception_resnet_v2_LSTM/'+'inception_resnet_v2_LSTM_model_' + str(i) + '.h5')\n",
    "\n",
    "    # set list to dataframe and save as csv\n",
    "    model_inception_resnet_v2_LSTM_loss_df = pd.DataFrame(model_inception_resnet_v2_LSTM_loss, columns = ['model_vinception_resnet_v2_LSTM_loss'])\n",
    "    model_inception_resnet_v2_LSTM_loss_df.to_csv(filepath+'model_inception_resnet_v2_LSTM_loss.csv') "
   ]
  },
  {
   "cell_type": "markdown",
   "id": "e591a765",
   "metadata": {},
   "source": [
    "## Setup Inception ResNet v2 on GRU"
   ]
  },
  {
   "cell_type": "code",
   "execution_count": 48,
   "id": "f0350bbb",
   "metadata": {},
   "outputs": [
    {
     "name": "stdout",
     "output_type": "stream",
     "text": [
      "Model: \"model_8\"\n",
      "__________________________________________________________________________________________________\n",
      " Layer (type)                   Output Shape         Param #     Connected to                     \n",
      "==================================================================================================\n",
      " input_18 (InputLayer)          [(None, 34)]         0           []                               \n",
      "                                                                                                  \n",
      " input_17 (InputLayer)          [(None, 845, 1536)]  0           []                               \n",
      "                                                                                                  \n",
      " embedding_8 (Embedding)        (None, 34, 256)      1940224     ['input_18[0][0]']               \n",
      "                                                                                                  \n",
      " dropout_16 (Dropout)           (None, 845, 1536)    0           ['input_17[0][0]']               \n",
      "                                                                                                  \n",
      " dropout_17 (Dropout)           (None, 34, 256)      0           ['embedding_8[0][0]']            \n",
      "                                                                                                  \n",
      " dense_24 (Dense)               (None, 845, 256)     393472      ['dropout_16[0][0]']             \n",
      "                                                                                                  \n",
      " gru_5 (GRU)                    (None, 256)          394752      ['dropout_17[0][0]']             \n",
      "                                                                                                  \n",
      " add_8 (Add)                    (None, 845, 256)     0           ['dense_24[0][0]',               \n",
      "                                                                  'gru_5[0][0]']                  \n",
      "                                                                                                  \n",
      " dense_25 (Dense)               (None, 845, 256)     65792       ['add_8[0][0]']                  \n",
      "                                                                                                  \n",
      " dense_26 (Dense)               (None, 845, 7579)    1947803     ['dense_25[0][0]']               \n",
      "                                                                                                  \n",
      "==================================================================================================\n",
      "Total params: 4,742,043\n",
      "Trainable params: 4,742,043\n",
      "Non-trainable params: 0\n",
      "__________________________________________________________________________________________________\n",
      "None\n"
     ]
    }
   ],
   "source": [
    "model_inception_resnet_v2s_GRU = define_model_GRU(vocab_size, max_length, 'inception_resnet_v2')"
   ]
  },
  {
   "cell_type": "code",
   "execution_count": 52,
   "id": "b7ec661a",
   "metadata": {},
   "outputs": [
    {
     "name": "stdout",
     "output_type": "stream",
     "text": [
      "0  out of  50\n",
      "375/375 [==============================] - 73s 195ms/step - loss: 4.2843\n",
      "1  out of  50\n",
      "375/375 [==============================] - 76s 202ms/step - loss: 4.2469\n",
      "2  out of  50\n",
      "375/375 [==============================] - 74s 197ms/step - loss: 4.2021\n",
      "3  out of  50\n",
      "375/375 [==============================] - 75s 200ms/step - loss: 4.0548\n",
      "4  out of  50\n",
      "375/375 [==============================] - 75s 199ms/step - loss: 3.8849\n",
      "5  out of  50\n",
      "375/375 [==============================] - 75s 200ms/step - loss: 3.7549\n",
      "6  out of  50\n",
      "375/375 [==============================] - 75s 200ms/step - loss: 3.6538\n",
      "7  out of  50\n",
      "375/375 [==============================] - 74s 199ms/step - loss: 3.5679\n",
      "8  out of  50\n",
      "375/375 [==============================] - 74s 198ms/step - loss: 3.4963\n",
      "9  out of  50\n",
      "375/375 [==============================] - 76s 202ms/step - loss: 3.4325\n",
      "10  out of  50\n",
      "375/375 [==============================] - 75s 201ms/step - loss: 3.3737\n",
      "11  out of  50\n",
      "375/375 [==============================] - 75s 200ms/step - loss: 3.3227\n",
      "12  out of  50\n",
      "375/375 [==============================] - 75s 200ms/step - loss: 3.2749\n",
      "13  out of  50\n",
      "375/375 [==============================] - 74s 197ms/step - loss: 3.2302\n",
      "14  out of  50\n",
      "375/375 [==============================] - 75s 199ms/step - loss: 3.1905\n",
      "15  out of  50\n",
      "375/375 [==============================] - 76s 202ms/step - loss: 3.1527\n",
      "16  out of  50\n",
      "375/375 [==============================] - 75s 201ms/step - loss: 3.1167\n",
      "17  out of  50\n",
      "375/375 [==============================] - 75s 200ms/step - loss: 3.0839\n",
      "18  out of  50\n",
      "375/375 [==============================] - 75s 199ms/step - loss: 3.0518\n",
      "19  out of  50\n",
      "375/375 [==============================] - 76s 203ms/step - loss: 3.0339\n",
      "20  out of  50\n",
      "375/375 [==============================] - 75s 200ms/step - loss: 2.9962\n",
      "21  out of  50\n",
      "375/375 [==============================] - 75s 201ms/step - loss: 2.9685\n",
      "22  out of  50\n",
      "375/375 [==============================] - 74s 198ms/step - loss: 2.9449\n",
      "23  out of  50\n",
      "375/375 [==============================] - 74s 197ms/step - loss: 2.9199\n",
      "24  out of  50\n",
      "375/375 [==============================] - 75s 199ms/step - loss: 2.8944\n",
      "25  out of  50\n",
      "375/375 [==============================] - 75s 199ms/step - loss: 2.8710\n",
      "26  out of  50\n",
      "375/375 [==============================] - 76s 204ms/step - loss: 2.8485\n",
      "27  out of  50\n",
      "375/375 [==============================] - 75s 201ms/step - loss: 2.8259\n",
      "28  out of  50\n",
      "375/375 [==============================] - 75s 201ms/step - loss: 2.8056\n",
      "29  out of  50\n",
      "375/375 [==============================] - 74s 198ms/step - loss: 2.7840\n",
      "30  out of  50\n",
      "375/375 [==============================] - 75s 201ms/step - loss: 2.7674\n",
      "31  out of  50\n",
      "375/375 [==============================] - 74s 198ms/step - loss: 2.7461\n",
      "32  out of  50\n",
      "375/375 [==============================] - 74s 198ms/step - loss: 2.7290\n",
      "33  out of  50\n",
      "375/375 [==============================] - 75s 201ms/step - loss: 2.7085\n",
      "34  out of  50\n",
      "375/375 [==============================] - 74s 198ms/step - loss: 2.6948\n",
      "35  out of  50\n",
      "375/375 [==============================] - 76s 203ms/step - loss: 2.6782\n",
      "36  out of  50\n",
      "375/375 [==============================] - 77s 206ms/step - loss: 2.6628\n",
      "37  out of  50\n",
      "375/375 [==============================] - 76s 203ms/step - loss: 2.6474\n",
      "38  out of  50\n",
      "375/375 [==============================] - 76s 202ms/step - loss: 2.6335\n",
      "39  out of  50\n",
      "375/375 [==============================] - 77s 204ms/step - loss: 2.6189\n",
      "40  out of  50\n",
      "375/375 [==============================] - 76s 203ms/step - loss: 2.6049\n",
      "41  out of  50\n",
      "375/375 [==============================] - 76s 202ms/step - loss: 2.5888\n",
      "42  out of  50\n",
      "375/375 [==============================] - 75s 199ms/step - loss: 2.5778\n",
      "43  out of  50\n",
      "375/375 [==============================] - 75s 200ms/step - loss: 2.5638\n",
      "44  out of  50\n",
      "375/375 [==============================] - 74s 199ms/step - loss: 2.5508\n",
      "45  out of  50\n",
      "375/375 [==============================] - 75s 199ms/step - loss: 2.5400\n",
      "46  out of  50\n",
      "375/375 [==============================] - 75s 199ms/step - loss: 2.5331\n",
      "47  out of  50\n",
      "375/375 [==============================] - 75s 199ms/step - loss: 2.5177\n",
      "48  out of  50\n",
      "375/375 [==============================] - 75s 200ms/step - loss: 2.5057\n",
      "49  out of  50\n",
      "375/375 [==============================] - 75s 201ms/step - loss: 2.4969\n"
     ]
    }
   ],
   "source": [
    "# train the model, run epochs manually and save after each epoch\n",
    "batch_size = 16\n",
    "epochs = 50\n",
    "steps = len(train_descriptions) // batch_size\n",
    "\n",
    "model_inception_resnet_v2s_GRU_loss = []\n",
    "\n",
    "# Check if directory has been created, if not make it\n",
    "if os.path.isdir(filepath+'inception_resnet_v2s_GRU') == False:\n",
    "    os.mkdir(filepath+'inception_resnet_v2s_GRU')\n",
    "    \n",
    "    \n",
    "# Check if there are epoch number of models in directory, training has already completed, if not train\n",
    "if len(os.listdir(filepath+'inception_resnet_v2s_GRU')) == epochs:\n",
    "    pass\n",
    "else:\n",
    "    \n",
    "    for i in range(epochs):\n",
    "        print(i,' out of ', epochs)\n",
    "        \n",
    "        # create data using generator using features\n",
    "        generator = datagenerator(combined_descriptions, combined_features_inception_resnet_v2, tokenizer, max_length, vocab_size,batch_size)\n",
    "        \n",
    "        # get model history\n",
    "        history_model_inception_resnet_v2s_GRU =  model_inception_resnet_v2s_GRU.fit(generator, epochs=1, steps_per_epoch=steps, verbose=1)\n",
    "\n",
    "        # append history to list\n",
    "        model_inception_resnet_v2s_GRU.save(filepath+'inception_resnet_v2_GRU/'+'inception_resnet_v2_GRU_model_' + str(i) + '.h5')\n",
    "        \n",
    "        # save model to directory above\n",
    "        model_inception_resnet_v2s_GRU_loss.append(history_model_inception_resnet_v2s_GRU.history['loss'])      \n",
    "\n",
    "    # set list to dataframe and save as csv\n",
    "    model_inception_resnet_v2s_GRU_loss_df = pd.DataFrame(model_inception_resnet_v2s_GRU_loss, columns = ['inception_resnet_v2__GRU_model_loss'])\n",
    "    model_inception_resnet_v2s_GRU_loss_df.to_csv(filepath+'model_inception_resnet_v2s_GRU_loss.csv') "
   ]
  },
  {
   "cell_type": "markdown",
   "id": "f94e5329",
   "metadata": {},
   "source": [
    "## Model evaluation\n",
    "\n",
    "Evaluating models using various functions.  Some cells are important but commented out to save rerunning them.\n",
    "The evaluation step takes approx 15 mins for each indiviual moel  and l'm testing a handful which I don't want to repeat"
   ]
  },
  {
   "cell_type": "code",
   "execution_count": 53,
   "id": "a787295c",
   "metadata": {},
   "outputs": [],
   "source": [
    "# function to get the word to number output from the tokenized captions\n",
    "\n",
    "def word_for_id(integer, tokenizer):\n",
    "    \n",
    "    # iterate over words in tokenized list/dict\n",
    "    for word, index in tokenizer.word_index.items():\n",
    "        \n",
    "        # if index is the same as integer there is a match\n",
    "        if index == integer:\n",
    "            \n",
    "            # return the word\n",
    "            return word\n",
    "        \n",
    "    return None"
   ]
  },
  {
   "cell_type": "code",
   "execution_count": 54,
   "id": "2a1bb420",
   "metadata": {},
   "outputs": [],
   "source": [
    "# generate a description for an image\n",
    "\n",
    "# function to create a caption for a input image\n",
    "def generate_desc(model, tokenizer, photo, max_length):\n",
    "    \n",
    "    # seed the generation process at startseq, we only use this to indicate the start of a commen\n",
    "    in_text = 'startseq'\n",
    "    \n",
    "    # iterate over the whole length of the sequence\n",
    "    for i in range(max_length):\n",
    "        \n",
    "        # integer encode input sequence\n",
    "        sequence = tokenizer.texts_to_sequences([in_text])[0]\n",
    "        \n",
    "        # pad input to maximum length to ensure all comments have same potential length\n",
    "        sequence = pad_sequences([sequence], maxlen=max_length)\n",
    "        \n",
    "        # predict next word, provides list of probabilities, we only care about max probability\n",
    "        yhat = model.predict([photo,sequence], verbose=0)\n",
    "        \n",
    "        # convert probability to integer, using list to max index of max probability word\n",
    "        yhat = argmax(yhat)\n",
    "        \n",
    "        # map integer to word for the most probable word\n",
    "        word = word_for_id(yhat, tokenizer)\n",
    "        \n",
    "        # stop if we cannot map the word\n",
    "        if word is None:\n",
    "            break\n",
    "            \n",
    "        # append as input for generating the next word\n",
    "        in_text += ' ' + word\n",
    "        \n",
    "        # stop if we predict the end of the sequence\n",
    "        if word == 'endseq':\n",
    "            break\n",
    "            \n",
    "            \n",
    "    return in_text"
   ]
  },
  {
   "cell_type": "code",
   "execution_count": 55,
   "id": "65456173",
   "metadata": {},
   "outputs": [],
   "source": [
    "# evaluate the skill of the model\n",
    "\n",
    "\n",
    "def evaluate_model(model, descriptions, photos, tokenizer, max_length):\n",
    "    \n",
    "    # empty list for real caption and predicted caption\n",
    "    actual, predicted = list(), list()\n",
    "    \n",
    "    \n",
    "    # iterate over the whole set\n",
    "    for key, desc_list in descriptions.items():\n",
    "        \n",
    "        # generate description\n",
    "        yhat = generate_desc(model, tokenizer, photos[key], max_length)\n",
    "        \n",
    "        # store actual and predicted\n",
    "        references = [d.split() for d in desc_list]\n",
    "        actual.append(references)\n",
    "        predicted.append(yhat.split())\n",
    "        \n",
    "    # calculate BLEU score\n",
    "    bleu1 = corpus_bleu(actual, predicted, weights=(1.0, 0, 0, 0))\n",
    "    bleu2 = corpus_bleu(actual, predicted, weights=(0.5, 0.5, 0, 0))\n",
    "    bleu3 = corpus_bleu(actual, predicted, weights=(0.3, 0.3, 0.3, 0))\n",
    "    bleu4 = corpus_bleu(actual, predicted, weights=(0.25, 0.25, 0.25, 0.25))\n",
    "    \n",
    "    return bleu1, bleu2, bleu3, bleu4"
   ]
  },
  {
   "cell_type": "code",
   "execution_count": 178,
   "id": "ed322157",
   "metadata": {},
   "outputs": [
    {
     "name": "stdout",
     "output_type": "stream",
     "text": [
      "running on model  vgg19_LSTM_model_0.h5\n",
      "running on model  vgg19_LSTM_model_19.h5\n",
      "running on model  vgg19_LSTM_model_29.h5\n",
      "running on model  vgg19_LSTM_model_39.h5\n",
      "running on model  vgg19_LSTM_model_49.h5\n",
      "running on model  vgg19_LSTM_model_9.h5\n"
     ]
    }
   ],
   "source": [
    "# Loop over models to get score of each mode. This takes approx 15 mins per run so want to coose which models to asses\n",
    "\n",
    "# empty lists to store values to\n",
    "model_name_list = []\n",
    "model_bleu1 = []\n",
    "model_bleu2 = []\n",
    "model_bleu3 = []\n",
    "model_bleu4 = []\n",
    "\n",
    "#models_filepaths = ['vgg19_LSTM', 'vgg19_GRU',\n",
    "#                    'efficientnetv2s_LSTM', 'efficientnetv2s_GRU', \n",
    "#                    'inception_resnet_v2_LSTM', 'inception_resnet_v2_GRU'\n",
    "#                    'mobilenetv3s_GRU']\n",
    "\n",
    "# get every 10th model\n",
    "endswith_10 = ['_0.h5', '_9.h5', '_19.h5', '_29.h5','_39.h5', '_49.h5']\n",
    "\n",
    "\n",
    "# loop over models\n",
    "for model in models_filepaths:\n",
    "    \n",
    "    # set which model to choose using input\n",
    "    \n",
    "    if model == 'vgg19_LSTM':\n",
    "        model_features = test_features_vgg19\n",
    "    elif model == 'vgg19_GRU': \n",
    "        model_features = test_features_vgg19\n",
    "        \n",
    "        \n",
    "    elif model == 'efficientnetv2s_LSTM': \n",
    "        model_features = test_features_efficientnetv2s      \n",
    "    elif model == 'efficientnetv2s_GRU': \n",
    "        model_features = test_features_efficientnetv2s   \n",
    "        \n",
    "        \n",
    "    elif model == 'inception_resnet_v2_LSTM': \n",
    "        model_features = test_features_inception_resnet_v2\n",
    "    elif model == 'inception_resnet_v2_GRU': \n",
    "        model_features = test_features_inception_resnet_v2     \n",
    "        \n",
    "        \n",
    "    elif model == 'mobilenetv3s_GRU': \n",
    "        model_features = test_features_mobilenetv3s\n",
    "         \n",
    "    else:\n",
    "        print('error')\n",
    "        \n",
    "    # set path\n",
    "    model_location = filepath + \"/\" + model\n",
    "    \n",
    "    # iterate over all models in direcory\n",
    "    for model_name in os.listdir(model_location):\n",
    "        \n",
    "        # strip .h5\n",
    "        model_id=(model_name[:-3])\n",
    "\n",
    "        # loop over models in previous list\n",
    "        for end in endswith_10:\n",
    "            \n",
    "            # loop over models\n",
    "            if end in model_name:\n",
    "                \n",
    "                # which model is running and load it\n",
    "                print('running on model ', model_name)\n",
    "                loaded_model = load_model(filepath+model+'/'+model_name)\n",
    "            \n",
    "                # get blue score and append it to relevant list\n",
    "                bleu_results = evaluate_model(loaded_model, test_descriptions, model_features, tokenizer, max_length)\n",
    "                \n",
    "                model_name_list.append(model_id)\n",
    "                model_bleu1.append(bleu_results[0])\n",
    "                model_bleu2.append(bleu_results[1])\n",
    "                model_bleu3.append(bleu_results[2])\n",
    "                model_bleu4.append(bleu_results[3])"
   ]
  },
  {
   "cell_type": "code",
   "execution_count": null,
   "id": "c2aaebd0",
   "metadata": {},
   "outputs": [],
   "source": [
    "# convert to series and append to df\n",
    "model_series= pd.Series(model_name_list, name  = 'model')\n",
    "blue1_series = pd.Series(model_bleu1, name = 'bleu1')\n",
    "blue2_series = pd.Series(model_bleu2, name = 'bleu2')\n",
    "blue3_series = pd.Series(model_bleu3, name = 'bleu3')\n",
    "blue4_series = pd.Series(model_bleu4, name = 'bleu4')\n",
    "\n",
    "# concat each series into one df and save it\n",
    "model_results = pd.concat([model_series, blue1_series,blue2_series,blue3_series,blue4_series], axis=1).reset_index()\n",
    "model_results.to_csv(filepath+'bleu results v2.csv') "
   ]
  },
  {
   "cell_type": "markdown",
   "id": "eb747ad0",
   "metadata": {},
   "source": [
    "# Generate a caption for an input image"
   ]
  },
  {
   "cell_type": "code",
   "execution_count": 151,
   "id": "a09239fc",
   "metadata": {},
   "outputs": [],
   "source": [
    "# prepare tokenizer\n",
    "tokenizer = create_tokenizer(train_descriptions)\n",
    "\n",
    "# save the tokenizer\n",
    "dump(tokenizer, open(filepath+'tokenizer.pkl', 'wb'))"
   ]
  },
  {
   "cell_type": "code",
   "execution_count": 152,
   "id": "0c13fc70",
   "metadata": {},
   "outputs": [],
   "source": [
    "# load the tokenizer\n",
    "tokenizer = load(open(filepath+'tokenizer.pkl', 'rb'))#, allow_pickle = True) -breaks it\n",
    "\n",
    "# pre-define the max sequence length (from training)\n",
    "max_length = 34"
   ]
  },
  {
   "cell_type": "code",
   "execution_count": 155,
   "id": "c49ab786",
   "metadata": {},
   "outputs": [],
   "source": [
    "# extract features from each photo in the directory VGG19 LSTM\n",
    "def extract_features(filename):\n",
    "    \n",
    "    # load the model\n",
    "    model = VGG19()\n",
    "    \n",
    "    # re-structure the model\n",
    "    model = Model(inputs=model.inputs, outputs=model.layers[-2].output)\n",
    "    \n",
    "    # load the photo\n",
    "    image = load_img(filename, target_size=(224, 224))\n",
    "    \n",
    "    # convert the image pixels to a numpy array\n",
    "    image = img_to_array(image)\n",
    "    \n",
    "    # reshape data for the model\n",
    "    image = image.reshape((1, image.shape[0], image.shape[1], image.shape[2]))\n",
    "    \n",
    "    # prepare the image for the VGG model\n",
    "    image = preprocess_input(image)\n",
    "    \n",
    "    # get features\n",
    "    feature = model.predict(image, verbose=0)\n",
    "    \n",
    "    return feature"
   ]
  },
  {
   "cell_type": "markdown",
   "id": "e8b99746",
   "metadata": {},
   "source": [
    "## Show progression of model predictions using VGG19 LSTM"
   ]
  },
  {
   "cell_type": "code",
   "execution_count": 179,
   "id": "c2031a86",
   "metadata": {},
   "outputs": [
    {
     "data": {
      "image/png": "[encoded data removed]",
      "text/plain": [
       "<Figure size 432x288 with 1 Axes>"
      ]
     },
     "metadata": {
      "needs_background": "light"
     },
     "output_type": "display_data"
    },
    {
     "name": "stdout",
     "output_type": "stream",
     "text": [
      "vgg19_LSTM_model_0.h5  girl in red shirt is playing in the air \n",
      "vgg19_LSTM_model_9.h5  girl in pink shirt and white shorts is dancing \n",
      "vgg19_LSTM_model_19.h5  girl in pink shirt is dancing in front of red house \n",
      "vgg19_LSTM_model_29.h5  girl in pink shirt is dancing \n",
      "vgg19_LSTM_model_39.h5  woman in pink shirt is sitting on the floor with her arms outstretched \n",
      "vgg19_LSTM_model_49.h5  woman in pink shirt is sitting on her lap in the midst of her team \n"
     ]
    }
   ],
   "source": [
    "# set photo path - doing manually \n",
    "photo = filepath+'Flickr8k_Dataset/Flicker8k_Dataset/2638981862_6b23833f37.jpg'\n",
    "\n",
    "# Display image\n",
    "img = mpimg.imread(photo)\n",
    "imgplot = plt.imshow(img)\n",
    "plt.show()\n",
    "\n",
    "# extact features using model\n",
    "photo_features = extract_features(photo)\n",
    "\n",
    "\n",
    "# load the model from path\n",
    "model_names = ['vgg19_LSTM_model_0.h5','vgg19_LSTM_model_9.h5', 'vgg19_LSTM_model_19.h5',\n",
    "               'vgg19_LSTM_model_29.h5','vgg19_LSTM_model_39.h5', 'vgg19_LSTM_model_49.h5']\n",
    "\n",
    "# iterate over models which are every 10th model\n",
    "for i in range(0,len(model_names)):\n",
    "    \n",
    "    # load specific model\n",
    "    model = load_model(filepath+'vgg19_LSTM' + '/' + model_names[i])\n",
    "    \n",
    "    # generate description and add startseq and endseq\n",
    "    description = generate_desc(model, tokenizer, photo_features, max_length)\n",
    "    description = description.replace('startseq','').replace('endseq','')\n",
    "    \n",
    "    #print result\n",
    "    print(model_names[i], description)"
   ]
  },
  {
   "cell_type": "markdown",
   "id": "847cc9ed",
   "metadata": {},
   "source": [
    "## Create histogram"
   ]
  },
  {
   "cell_type": "code",
   "execution_count": null,
   "id": "bbb2ffdf",
   "metadata": {},
   "outputs": [],
   "source": [
    "# function to plot histogram of vocabulary\n",
    "\n",
    "\n",
    "def plot_histogram(dictionary_descriptions):\n",
    "\n",
    "    # two emoty lists one to append captions to in group and another to each caption\n",
    "    count_caption_length = []\n",
    "    captions_list =  []\n",
    "\n",
    "    # iterate over files\n",
    "    for key in dictionary_descriptions:\n",
    "        \n",
    "        # iterate over captions as groups of 5\n",
    "        for captions in dictionary_descriptions[key]: # list of lists\n",
    "            \n",
    "            # append lit of captions to list\n",
    "            captions_list.append(captions)\n",
    "\n",
    "    # for item in now populated list       \n",
    "    for caption in captions_list:\n",
    "        \n",
    "        #spit each caption by white space to get count of word an append length to list\n",
    "        count_caption_length.append(len(caption.split(\" \")))\n",
    "\n",
    "    # create figure\n",
    "    plt.figure(figsize=(7, 7))\n",
    "    \n",
    "    # Count each unique occurances and puts in dictionary\n",
    "    plt.bar(*zip(*Counter(count_caption_length).items()))\n",
    "    \n",
    "    # Set plot titles/heading\n",
    "    plt.title('Histogram of tokenized captions by number of words ')# + str('Tokenized'))\n",
    "    plt.ylabel('count')\n",
    "    plt.xlabel('caption length')\n",
    "    plt.show()"
   ]
  },
  {
   "cell_type": "code",
   "execution_count": null,
   "id": "6f07f185",
   "metadata": {},
   "outputs": [],
   "source": [
    "plot_histogram(train_descriptions)"
   ]
  },
  {
   "cell_type": "markdown",
   "id": "893c68dd",
   "metadata": {},
   "source": [
    "## Plot loss of inception resnet v3 models\n",
    "\n",
    "Would like to plot all models but that would require rerunning for all those models and that would be inefficient"
   ]
  },
  {
   "cell_type": "code",
   "execution_count": null,
   "id": "b2d01d3b",
   "metadata": {},
   "outputs": [],
   "source": [
    "\n",
    "# get file paths of the csv with the history of loss pe epoch\n",
    "efficientnet_LSTM_df = pd.read_csv(filepath+'model_efficientnetv2s_LSTM_loss.csv')\n",
    "efficientnet_GRU_df = pd.read_csv(filepath+'model_efficientnetv2s_GRU_loss.csv')\n",
    "\n",
    "# select columns of interest after combining\n",
    "combined = pd.concat([efficientnet_LSTM_df, efficientnet_GRU_df], axis=1)\n",
    "combined = combined[['model_efficientnetv2s_LSTM_loss', 'model_efficientnetv2s_GRU_loss']]"
   ]
  },
  {
   "cell_type": "code",
   "execution_count": null,
   "id": "02d7e842",
   "metadata": {},
   "outputs": [],
   "source": [
    "# plot from dataframe\n",
    "combined.plot()\n",
    "plt.title('Loss for EfficientNet v2 LSTM and GRU models ')# + str('Tokenized'))\n",
    "plt.ylabel('loss ')\n",
    "plt.xlabel('epoch')\n",
    "plt.legend(['EfficientNet v2 s LSTM','EfficientNet v2 s GRU'],frameon=False)\n"
   ]
  },
  {
   "cell_type": "markdown",
   "id": "b823f965",
   "metadata": {},
   "source": [
    "## Additional info\n",
    "\n",
    "During tinkering I have soemhow broken the incepion model and am unable to replicate getting the BLEU scores. I beleive its because I altered the input shape but I can't get it back into a working state even after reverting to a previously working notebook. I unfortunately do not have the time available to further investigate this issue.\n",
    "\n",
    "VGG19 and efficientnet models run perfectly, other models have issues which are problematic to rectify even though they worked previously. "
   ]
  },
  {
   "cell_type": "code",
   "execution_count": null,
   "id": "66261504",
   "metadata": {},
   "outputs": [],
   "source": []
  }
 ],
 "metadata": {
  "kernelspec": {
   "display_name": "Python 3 (ipykernel)",
   "language": "python",
   "name": "python3"
  },
  "language_info": {
   "codemirror_mode": {
    "name": "ipython",
    "version": 3
   },
   "file_extension": ".py",
   "mimetype": "text/x-python",
   "name": "python",
   "nbconvert_exporter": "python",
   "pygments_lexer": "ipython3",
   "version": "3.9.12"
  }
 },
 "nbformat": 4,
 "nbformat_minor": 5
}
